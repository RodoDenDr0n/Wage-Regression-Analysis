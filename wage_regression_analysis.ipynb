{
 "cells": [
  {
   "cell_type": "markdown",
   "metadata": {
    "id": "_bVSHz2_QpGP"
   },
   "source": [
    "Author: Andrii Vandzhura"
   ]
  },
  {
   "cell_type": "markdown",
   "metadata": {
    "id": "5S7UsuA2RLJr"
   },
   "source": [
    "# Installing libraries\n",
    "Before we start solving the tasks we need to make sure that we install all necessary libraries.\n",
    "The libraries that we will use include:\n",
    "\n",
    "\n",
    "*   pandas\n",
    "*   numpy\n",
    "* statsmodels\n",
    "* matplotlib\n",
    "* seaborn\n",
    "* plotly\n",
    "* scipy\n",
    "* wooldridge\n",
    "\n"
   ]
  },
  {
   "cell_type": "code",
   "execution_count": 67,
   "metadata": {
    "colab": {
     "base_uri": "https://localhost:8080/"
    },
    "id": "WFIHdGaMRvph",
    "outputId": "9684827e-54ed-48df-832a-0fd6569da4b8"
   },
   "outputs": [
    {
     "name": "stdout",
     "output_type": "stream",
     "text": [
      "Looking in indexes: https://pypi.org/simple, https://us-python.pkg.dev/colab-wheels/public/simple/\n",
      "Requirement already satisfied: pandas in /usr/local/lib/python3.9/dist-packages (1.4.4)\n",
      "Requirement already satisfied: numpy in /usr/local/lib/python3.9/dist-packages (1.22.4)\n",
      "Requirement already satisfied: statsmodels in /usr/local/lib/python3.9/dist-packages (0.13.5)\n",
      "Requirement already satisfied: matplotlib in /usr/local/lib/python3.9/dist-packages (3.7.1)\n",
      "Requirement already satisfied: seaborn in /usr/local/lib/python3.9/dist-packages (0.12.2)\n",
      "Requirement already satisfied: plotly in /usr/local/lib/python3.9/dist-packages (5.13.1)\n",
      "Requirement already satisfied: scipy in /usr/local/lib/python3.9/dist-packages (1.10.1)\n",
      "Requirement already satisfied: wooldridge in /usr/local/lib/python3.9/dist-packages (0.4.4)\n",
      "Requirement already satisfied: pytz>=2020.1 in /usr/local/lib/python3.9/dist-packages (from pandas) (2022.7.1)\n",
      "Requirement already satisfied: python-dateutil>=2.8.1 in /usr/local/lib/python3.9/dist-packages (from pandas) (2.8.2)\n",
      "Requirement already satisfied: packaging>=21.3 in /usr/local/lib/python3.9/dist-packages (from statsmodels) (23.0)\n",
      "Requirement already satisfied: patsy>=0.5.2 in /usr/local/lib/python3.9/dist-packages (from statsmodels) (0.5.3)\n",
      "Requirement already satisfied: pillow>=6.2.0 in /usr/local/lib/python3.9/dist-packages (from matplotlib) (8.4.0)\n",
      "Requirement already satisfied: pyparsing>=2.3.1 in /usr/local/lib/python3.9/dist-packages (from matplotlib) (3.0.9)\n",
      "Requirement already satisfied: contourpy>=1.0.1 in /usr/local/lib/python3.9/dist-packages (from matplotlib) (1.0.7)\n",
      "Requirement already satisfied: kiwisolver>=1.0.1 in /usr/local/lib/python3.9/dist-packages (from matplotlib) (1.4.4)\n",
      "Requirement already satisfied: cycler>=0.10 in /usr/local/lib/python3.9/dist-packages (from matplotlib) (0.11.0)\n",
      "Requirement already satisfied: importlib-resources>=3.2.0 in /usr/local/lib/python3.9/dist-packages (from matplotlib) (5.12.0)\n",
      "Requirement already satisfied: fonttools>=4.22.0 in /usr/local/lib/python3.9/dist-packages (from matplotlib) (4.39.2)\n",
      "Requirement already satisfied: tenacity>=6.2.0 in /usr/local/lib/python3.9/dist-packages (from plotly) (8.2.2)\n",
      "Requirement already satisfied: zipp>=3.1.0 in /usr/local/lib/python3.9/dist-packages (from importlib-resources>=3.2.0->matplotlib) (3.15.0)\n",
      "Requirement already satisfied: six in /usr/local/lib/python3.9/dist-packages (from patsy>=0.5.2->statsmodels) (1.16.0)\n"
     ]
    }
   ],
   "source": [
    "!pip install pandas numpy statsmodels matplotlib seaborn plotly scipy wooldridge\n",
    "import pandas as pd\n",
    "import numpy as np\n",
    "import statsmodels.formula.api as smf\n",
    "import statsmodels.api as sm\n",
    "import matplotlib.pyplot as plt\n",
    "import seaborn as sns\n",
    "import wooldridge\n",
    "\n",
    "import plotly.express as px\n",
    "from scipy.stats import t as t_dist\n",
    "from scipy.stats import f as f_dist\n",
    "from scipy.stats import norm"
   ]
  },
  {
   "cell_type": "markdown",
   "metadata": {
    "id": "dXzmtvEQSNkS"
   },
   "source": [
    "Now that we have installed the libraries we can start working on the tasks"
   ]
  },
  {
   "cell_type": "markdown",
   "metadata": {
    "id": "3OlKLTEOSunI"
   },
   "source": [
    "# Exploratory data analysis (EDA)\n",
    "First things first, we need to, basically, get our data and perform some exploratory data analysis in order to see if our data has some flows such as, for example, NA values in some of the entries and, well, deal with them.\n",
    "Therefore, let's write the code snippet that will get our \"wage2\" data from the wooldridge package and tell us more about our data:"
   ]
  },
  {
   "cell_type": "code",
   "execution_count": 68,
   "metadata": {
    "colab": {
     "base_uri": "https://localhost:8080/",
     "height": 206
    },
    "id": "QW30A_0tUVKG",
    "outputId": "4a51be62-a955-4b8f-ffa5-f412a7984eb6"
   },
   "outputs": [
    {
     "data": {
      "text/html": [
       "\n",
       "  <div id=\"df-c39bbaad-c43f-4988-9d06-75741751e1e5\">\n",
       "    <div class=\"colab-df-container\">\n",
       "      <div>\n",
       "<style scoped>\n",
       "    .dataframe tbody tr th:only-of-type {\n",
       "        vertical-align: middle;\n",
       "    }\n",
       "\n",
       "    .dataframe tbody tr th {\n",
       "        vertical-align: top;\n",
       "    }\n",
       "\n",
       "    .dataframe thead th {\n",
       "        text-align: right;\n",
       "    }\n",
       "</style>\n",
       "<table border=\"1\" class=\"dataframe\">\n",
       "  <thead>\n",
       "    <tr style=\"text-align: right;\">\n",
       "      <th></th>\n",
       "      <th>wage</th>\n",
       "      <th>hours</th>\n",
       "      <th>IQ</th>\n",
       "      <th>KWW</th>\n",
       "      <th>educ</th>\n",
       "      <th>exper</th>\n",
       "      <th>tenure</th>\n",
       "      <th>age</th>\n",
       "      <th>married</th>\n",
       "      <th>black</th>\n",
       "      <th>south</th>\n",
       "      <th>urban</th>\n",
       "      <th>sibs</th>\n",
       "      <th>brthord</th>\n",
       "      <th>meduc</th>\n",
       "      <th>feduc</th>\n",
       "      <th>lwage</th>\n",
       "    </tr>\n",
       "  </thead>\n",
       "  <tbody>\n",
       "    <tr>\n",
       "      <th>0</th>\n",
       "      <td>769</td>\n",
       "      <td>40</td>\n",
       "      <td>93</td>\n",
       "      <td>35</td>\n",
       "      <td>12</td>\n",
       "      <td>11</td>\n",
       "      <td>2</td>\n",
       "      <td>31</td>\n",
       "      <td>1</td>\n",
       "      <td>0</td>\n",
       "      <td>0</td>\n",
       "      <td>1</td>\n",
       "      <td>1</td>\n",
       "      <td>2.0</td>\n",
       "      <td>8.0</td>\n",
       "      <td>8.0</td>\n",
       "      <td>6.645091</td>\n",
       "    </tr>\n",
       "    <tr>\n",
       "      <th>1</th>\n",
       "      <td>808</td>\n",
       "      <td>50</td>\n",
       "      <td>119</td>\n",
       "      <td>41</td>\n",
       "      <td>18</td>\n",
       "      <td>11</td>\n",
       "      <td>16</td>\n",
       "      <td>37</td>\n",
       "      <td>1</td>\n",
       "      <td>0</td>\n",
       "      <td>0</td>\n",
       "      <td>1</td>\n",
       "      <td>1</td>\n",
       "      <td>NaN</td>\n",
       "      <td>14.0</td>\n",
       "      <td>14.0</td>\n",
       "      <td>6.694562</td>\n",
       "    </tr>\n",
       "    <tr>\n",
       "      <th>2</th>\n",
       "      <td>825</td>\n",
       "      <td>40</td>\n",
       "      <td>108</td>\n",
       "      <td>46</td>\n",
       "      <td>14</td>\n",
       "      <td>11</td>\n",
       "      <td>9</td>\n",
       "      <td>33</td>\n",
       "      <td>1</td>\n",
       "      <td>0</td>\n",
       "      <td>0</td>\n",
       "      <td>1</td>\n",
       "      <td>1</td>\n",
       "      <td>2.0</td>\n",
       "      <td>14.0</td>\n",
       "      <td>14.0</td>\n",
       "      <td>6.715384</td>\n",
       "    </tr>\n",
       "    <tr>\n",
       "      <th>3</th>\n",
       "      <td>650</td>\n",
       "      <td>40</td>\n",
       "      <td>96</td>\n",
       "      <td>32</td>\n",
       "      <td>12</td>\n",
       "      <td>13</td>\n",
       "      <td>7</td>\n",
       "      <td>32</td>\n",
       "      <td>1</td>\n",
       "      <td>0</td>\n",
       "      <td>0</td>\n",
       "      <td>1</td>\n",
       "      <td>4</td>\n",
       "      <td>3.0</td>\n",
       "      <td>12.0</td>\n",
       "      <td>12.0</td>\n",
       "      <td>6.476973</td>\n",
       "    </tr>\n",
       "    <tr>\n",
       "      <th>4</th>\n",
       "      <td>562</td>\n",
       "      <td>40</td>\n",
       "      <td>74</td>\n",
       "      <td>27</td>\n",
       "      <td>11</td>\n",
       "      <td>14</td>\n",
       "      <td>5</td>\n",
       "      <td>34</td>\n",
       "      <td>1</td>\n",
       "      <td>0</td>\n",
       "      <td>0</td>\n",
       "      <td>1</td>\n",
       "      <td>10</td>\n",
       "      <td>6.0</td>\n",
       "      <td>6.0</td>\n",
       "      <td>11.0</td>\n",
       "      <td>6.331502</td>\n",
       "    </tr>\n",
       "  </tbody>\n",
       "</table>\n",
       "</div>\n",
       "      <button class=\"colab-df-convert\" onclick=\"convertToInteractive('df-c39bbaad-c43f-4988-9d06-75741751e1e5')\"\n",
       "              title=\"Convert this dataframe to an interactive table.\"\n",
       "              style=\"display:none;\">\n",
       "        \n",
       "  <svg xmlns=\"http://www.w3.org/2000/svg\" height=\"24px\"viewBox=\"0 0 24 24\"\n",
       "       width=\"24px\">\n",
       "    <path d=\"M0 0h24v24H0V0z\" fill=\"none\"/>\n",
       "    <path d=\"M18.56 5.44l.94 2.06.94-2.06 2.06-.94-2.06-.94-.94-2.06-.94 2.06-2.06.94zm-11 1L8.5 8.5l.94-2.06 2.06-.94-2.06-.94L8.5 2.5l-.94 2.06-2.06.94zm10 10l.94 2.06.94-2.06 2.06-.94-2.06-.94-.94-2.06-.94 2.06-2.06.94z\"/><path d=\"M17.41 7.96l-1.37-1.37c-.4-.4-.92-.59-1.43-.59-.52 0-1.04.2-1.43.59L10.3 9.45l-7.72 7.72c-.78.78-.78 2.05 0 2.83L4 21.41c.39.39.9.59 1.41.59.51 0 1.02-.2 1.41-.59l7.78-7.78 2.81-2.81c.8-.78.8-2.07 0-2.86zM5.41 20L4 18.59l7.72-7.72 1.47 1.35L5.41 20z\"/>\n",
       "  </svg>\n",
       "      </button>\n",
       "      \n",
       "  <style>\n",
       "    .colab-df-container {\n",
       "      display:flex;\n",
       "      flex-wrap:wrap;\n",
       "      gap: 12px;\n",
       "    }\n",
       "\n",
       "    .colab-df-convert {\n",
       "      background-color: #E8F0FE;\n",
       "      border: none;\n",
       "      border-radius: 50%;\n",
       "      cursor: pointer;\n",
       "      display: none;\n",
       "      fill: #1967D2;\n",
       "      height: 32px;\n",
       "      padding: 0 0 0 0;\n",
       "      width: 32px;\n",
       "    }\n",
       "\n",
       "    .colab-df-convert:hover {\n",
       "      background-color: #E2EBFA;\n",
       "      box-shadow: 0px 1px 2px rgba(60, 64, 67, 0.3), 0px 1px 3px 1px rgba(60, 64, 67, 0.15);\n",
       "      fill: #174EA6;\n",
       "    }\n",
       "\n",
       "    [theme=dark] .colab-df-convert {\n",
       "      background-color: #3B4455;\n",
       "      fill: #D2E3FC;\n",
       "    }\n",
       "\n",
       "    [theme=dark] .colab-df-convert:hover {\n",
       "      background-color: #434B5C;\n",
       "      box-shadow: 0px 1px 3px 1px rgba(0, 0, 0, 0.15);\n",
       "      filter: drop-shadow(0px 1px 2px rgba(0, 0, 0, 0.3));\n",
       "      fill: #FFFFFF;\n",
       "    }\n",
       "  </style>\n",
       "\n",
       "      <script>\n",
       "        const buttonEl =\n",
       "          document.querySelector('#df-c39bbaad-c43f-4988-9d06-75741751e1e5 button.colab-df-convert');\n",
       "        buttonEl.style.display =\n",
       "          google.colab.kernel.accessAllowed ? 'block' : 'none';\n",
       "\n",
       "        async function convertToInteractive(key) {\n",
       "          const element = document.querySelector('#df-c39bbaad-c43f-4988-9d06-75741751e1e5');\n",
       "          const dataTable =\n",
       "            await google.colab.kernel.invokeFunction('convertToInteractive',\n",
       "                                                     [key], {});\n",
       "          if (!dataTable) return;\n",
       "\n",
       "          const docLinkHtml = 'Like what you see? Visit the ' +\n",
       "            '<a target=\"_blank\" href=https://colab.research.google.com/notebooks/data_table.ipynb>data table notebook</a>'\n",
       "            + ' to learn more about interactive tables.';\n",
       "          element.innerHTML = '';\n",
       "          dataTable['output_type'] = 'display_data';\n",
       "          await google.colab.output.renderOutput(dataTable, element);\n",
       "          const docLink = document.createElement('div');\n",
       "          docLink.innerHTML = docLinkHtml;\n",
       "          element.appendChild(docLink);\n",
       "        }\n",
       "      </script>\n",
       "    </div>\n",
       "  </div>\n",
       "  "
      ],
      "text/plain": [
       "   wage  hours   IQ  KWW  educ  exper  tenure  age  married  black  south  \\\n",
       "0   769     40   93   35    12     11       2   31        1      0      0   \n",
       "1   808     50  119   41    18     11      16   37        1      0      0   \n",
       "2   825     40  108   46    14     11       9   33        1      0      0   \n",
       "3   650     40   96   32    12     13       7   32        1      0      0   \n",
       "4   562     40   74   27    11     14       5   34        1      0      0   \n",
       "\n",
       "   urban  sibs  brthord  meduc  feduc     lwage  \n",
       "0      1     1      2.0    8.0    8.0  6.645091  \n",
       "1      1     1      NaN   14.0   14.0  6.694562  \n",
       "2      1     1      2.0   14.0   14.0  6.715384  \n",
       "3      1     4      3.0   12.0   12.0  6.476973  \n",
       "4      1    10      6.0    6.0   11.0  6.331502  "
      ]
     },
     "execution_count": 68,
     "metadata": {},
     "output_type": "execute_result"
    }
   ],
   "source": [
    "dataframe = wooldridge.data(\"wage2\")\n",
    "dataframe.head()"
   ]
  },
  {
   "cell_type": "code",
   "execution_count": 69,
   "metadata": {
    "colab": {
     "base_uri": "https://localhost:8080/"
    },
    "id": "mSF-Q0EKWvw6",
    "outputId": "7c6e2e3a-c39a-4179-ddef-d6dbe742f97b"
   },
   "outputs": [
    {
     "name": "stdout",
     "output_type": "stream",
     "text": [
      "<class 'pandas.core.frame.DataFrame'>\n",
      "RangeIndex: 935 entries, 0 to 934\n",
      "Data columns (total 17 columns):\n",
      " #   Column   Non-Null Count  Dtype  \n",
      "---  ------   --------------  -----  \n",
      " 0   wage     935 non-null    int64  \n",
      " 1   hours    935 non-null    int64  \n",
      " 2   IQ       935 non-null    int64  \n",
      " 3   KWW      935 non-null    int64  \n",
      " 4   educ     935 non-null    int64  \n",
      " 5   exper    935 non-null    int64  \n",
      " 6   tenure   935 non-null    int64  \n",
      " 7   age      935 non-null    int64  \n",
      " 8   married  935 non-null    int64  \n",
      " 9   black    935 non-null    int64  \n",
      " 10  south    935 non-null    int64  \n",
      " 11  urban    935 non-null    int64  \n",
      " 12  sibs     935 non-null    int64  \n",
      " 13  brthord  852 non-null    float64\n",
      " 14  meduc    857 non-null    float64\n",
      " 15  feduc    741 non-null    float64\n",
      " 16  lwage    935 non-null    float64\n",
      "dtypes: float64(4), int64(13)\n",
      "memory usage: 124.3 KB\n"
     ]
    }
   ],
   "source": [
    "dataframe.info()"
   ]
  },
  {
   "cell_type": "markdown",
   "metadata": {
    "id": "5BJqhibDXaTf"
   },
   "source": [
    "As we may already see at this point there some NA entries in the brthord, meduc and feduc. So we will deal with that in a moment, but let's first get a little more insights on our data."
   ]
  },
  {
   "cell_type": "code",
   "execution_count": 70,
   "metadata": {
    "colab": {
     "base_uri": "https://localhost:8080/"
    },
    "id": "apHZFO1eXDix",
    "outputId": "6063a47a-4e38-4fd8-9634-18dbdd6ec83a"
   },
   "outputs": [
    {
     "data": {
      "text/plain": [
       "wage       449\n",
       "hours       37\n",
       "IQ          80\n",
       "KWW         42\n",
       "educ        10\n",
       "exper       22\n",
       "tenure      23\n",
       "age         11\n",
       "married      2\n",
       "black        2\n",
       "south        2\n",
       "urban        2\n",
       "sibs        15\n",
       "brthord     10\n",
       "meduc       19\n",
       "feduc       18\n",
       "lwage      449\n",
       "dtype: int64"
      ]
     },
     "execution_count": 70,
     "metadata": {},
     "output_type": "execute_result"
    }
   ],
   "source": [
    "dataframe.nunique()"
   ]
  },
  {
   "cell_type": "code",
   "execution_count": 71,
   "metadata": {
    "colab": {
     "base_uri": "https://localhost:8080/",
     "height": 364
    },
    "id": "0x3ef0ZvXFQ3",
    "outputId": "1e5077e1-4681-4f2d-cfe0-fc689a8d1d27"
   },
   "outputs": [
    {
     "data": {
      "text/html": [
       "\n",
       "  <div id=\"df-0dd71df9-b7d3-4e1a-9fa3-84ad314236f9\">\n",
       "    <div class=\"colab-df-container\">\n",
       "      <div>\n",
       "<style scoped>\n",
       "    .dataframe tbody tr th:only-of-type {\n",
       "        vertical-align: middle;\n",
       "    }\n",
       "\n",
       "    .dataframe tbody tr th {\n",
       "        vertical-align: top;\n",
       "    }\n",
       "\n",
       "    .dataframe thead th {\n",
       "        text-align: right;\n",
       "    }\n",
       "</style>\n",
       "<table border=\"1\" class=\"dataframe\">\n",
       "  <thead>\n",
       "    <tr style=\"text-align: right;\">\n",
       "      <th></th>\n",
       "      <th>wage</th>\n",
       "      <th>hours</th>\n",
       "      <th>IQ</th>\n",
       "      <th>KWW</th>\n",
       "      <th>educ</th>\n",
       "      <th>exper</th>\n",
       "      <th>tenure</th>\n",
       "      <th>age</th>\n",
       "      <th>married</th>\n",
       "      <th>black</th>\n",
       "      <th>south</th>\n",
       "      <th>urban</th>\n",
       "      <th>sibs</th>\n",
       "      <th>brthord</th>\n",
       "      <th>meduc</th>\n",
       "      <th>feduc</th>\n",
       "      <th>lwage</th>\n",
       "    </tr>\n",
       "  </thead>\n",
       "  <tbody>\n",
       "    <tr>\n",
       "      <th>count</th>\n",
       "      <td>935.000000</td>\n",
       "      <td>935.000000</td>\n",
       "      <td>935.000000</td>\n",
       "      <td>935.000000</td>\n",
       "      <td>935.000000</td>\n",
       "      <td>935.000000</td>\n",
       "      <td>935.000000</td>\n",
       "      <td>935.000000</td>\n",
       "      <td>935.000000</td>\n",
       "      <td>935.000000</td>\n",
       "      <td>935.000000</td>\n",
       "      <td>935.000000</td>\n",
       "      <td>935.000000</td>\n",
       "      <td>852.000000</td>\n",
       "      <td>857.000000</td>\n",
       "      <td>741.000000</td>\n",
       "      <td>935.000000</td>\n",
       "    </tr>\n",
       "    <tr>\n",
       "      <th>mean</th>\n",
       "      <td>957.945455</td>\n",
       "      <td>43.929412</td>\n",
       "      <td>101.282353</td>\n",
       "      <td>35.744385</td>\n",
       "      <td>13.468449</td>\n",
       "      <td>11.563636</td>\n",
       "      <td>7.234225</td>\n",
       "      <td>33.080214</td>\n",
       "      <td>0.893048</td>\n",
       "      <td>0.128342</td>\n",
       "      <td>0.341176</td>\n",
       "      <td>0.717647</td>\n",
       "      <td>2.941176</td>\n",
       "      <td>2.276995</td>\n",
       "      <td>10.682614</td>\n",
       "      <td>10.217274</td>\n",
       "      <td>6.779004</td>\n",
       "    </tr>\n",
       "    <tr>\n",
       "      <th>std</th>\n",
       "      <td>404.360822</td>\n",
       "      <td>7.224256</td>\n",
       "      <td>15.052636</td>\n",
       "      <td>7.638788</td>\n",
       "      <td>2.196654</td>\n",
       "      <td>4.374586</td>\n",
       "      <td>5.075206</td>\n",
       "      <td>3.107803</td>\n",
       "      <td>0.309217</td>\n",
       "      <td>0.334650</td>\n",
       "      <td>0.474358</td>\n",
       "      <td>0.450385</td>\n",
       "      <td>2.306254</td>\n",
       "      <td>1.595613</td>\n",
       "      <td>2.849756</td>\n",
       "      <td>3.300700</td>\n",
       "      <td>0.421144</td>\n",
       "    </tr>\n",
       "    <tr>\n",
       "      <th>min</th>\n",
       "      <td>115.000000</td>\n",
       "      <td>20.000000</td>\n",
       "      <td>50.000000</td>\n",
       "      <td>12.000000</td>\n",
       "      <td>9.000000</td>\n",
       "      <td>1.000000</td>\n",
       "      <td>0.000000</td>\n",
       "      <td>28.000000</td>\n",
       "      <td>0.000000</td>\n",
       "      <td>0.000000</td>\n",
       "      <td>0.000000</td>\n",
       "      <td>0.000000</td>\n",
       "      <td>0.000000</td>\n",
       "      <td>1.000000</td>\n",
       "      <td>0.000000</td>\n",
       "      <td>0.000000</td>\n",
       "      <td>4.744932</td>\n",
       "    </tr>\n",
       "    <tr>\n",
       "      <th>25%</th>\n",
       "      <td>669.000000</td>\n",
       "      <td>40.000000</td>\n",
       "      <td>92.000000</td>\n",
       "      <td>31.000000</td>\n",
       "      <td>12.000000</td>\n",
       "      <td>8.000000</td>\n",
       "      <td>3.000000</td>\n",
       "      <td>30.000000</td>\n",
       "      <td>1.000000</td>\n",
       "      <td>0.000000</td>\n",
       "      <td>0.000000</td>\n",
       "      <td>0.000000</td>\n",
       "      <td>1.000000</td>\n",
       "      <td>1.000000</td>\n",
       "      <td>8.000000</td>\n",
       "      <td>8.000000</td>\n",
       "      <td>6.505783</td>\n",
       "    </tr>\n",
       "    <tr>\n",
       "      <th>50%</th>\n",
       "      <td>905.000000</td>\n",
       "      <td>40.000000</td>\n",
       "      <td>102.000000</td>\n",
       "      <td>37.000000</td>\n",
       "      <td>12.000000</td>\n",
       "      <td>11.000000</td>\n",
       "      <td>7.000000</td>\n",
       "      <td>33.000000</td>\n",
       "      <td>1.000000</td>\n",
       "      <td>0.000000</td>\n",
       "      <td>0.000000</td>\n",
       "      <td>1.000000</td>\n",
       "      <td>2.000000</td>\n",
       "      <td>2.000000</td>\n",
       "      <td>12.000000</td>\n",
       "      <td>10.000000</td>\n",
       "      <td>6.807935</td>\n",
       "    </tr>\n",
       "    <tr>\n",
       "      <th>75%</th>\n",
       "      <td>1160.000000</td>\n",
       "      <td>48.000000</td>\n",
       "      <td>112.000000</td>\n",
       "      <td>41.000000</td>\n",
       "      <td>16.000000</td>\n",
       "      <td>15.000000</td>\n",
       "      <td>11.000000</td>\n",
       "      <td>36.000000</td>\n",
       "      <td>1.000000</td>\n",
       "      <td>0.000000</td>\n",
       "      <td>1.000000</td>\n",
       "      <td>1.000000</td>\n",
       "      <td>4.000000</td>\n",
       "      <td>3.000000</td>\n",
       "      <td>12.000000</td>\n",
       "      <td>12.000000</td>\n",
       "      <td>7.056175</td>\n",
       "    </tr>\n",
       "    <tr>\n",
       "      <th>max</th>\n",
       "      <td>3078.000000</td>\n",
       "      <td>80.000000</td>\n",
       "      <td>145.000000</td>\n",
       "      <td>56.000000</td>\n",
       "      <td>18.000000</td>\n",
       "      <td>23.000000</td>\n",
       "      <td>22.000000</td>\n",
       "      <td>38.000000</td>\n",
       "      <td>1.000000</td>\n",
       "      <td>1.000000</td>\n",
       "      <td>1.000000</td>\n",
       "      <td>1.000000</td>\n",
       "      <td>14.000000</td>\n",
       "      <td>10.000000</td>\n",
       "      <td>18.000000</td>\n",
       "      <td>18.000000</td>\n",
       "      <td>8.032035</td>\n",
       "    </tr>\n",
       "  </tbody>\n",
       "</table>\n",
       "</div>\n",
       "      <button class=\"colab-df-convert\" onclick=\"convertToInteractive('df-0dd71df9-b7d3-4e1a-9fa3-84ad314236f9')\"\n",
       "              title=\"Convert this dataframe to an interactive table.\"\n",
       "              style=\"display:none;\">\n",
       "        \n",
       "  <svg xmlns=\"http://www.w3.org/2000/svg\" height=\"24px\"viewBox=\"0 0 24 24\"\n",
       "       width=\"24px\">\n",
       "    <path d=\"M0 0h24v24H0V0z\" fill=\"none\"/>\n",
       "    <path d=\"M18.56 5.44l.94 2.06.94-2.06 2.06-.94-2.06-.94-.94-2.06-.94 2.06-2.06.94zm-11 1L8.5 8.5l.94-2.06 2.06-.94-2.06-.94L8.5 2.5l-.94 2.06-2.06.94zm10 10l.94 2.06.94-2.06 2.06-.94-2.06-.94-.94-2.06-.94 2.06-2.06.94z\"/><path d=\"M17.41 7.96l-1.37-1.37c-.4-.4-.92-.59-1.43-.59-.52 0-1.04.2-1.43.59L10.3 9.45l-7.72 7.72c-.78.78-.78 2.05 0 2.83L4 21.41c.39.39.9.59 1.41.59.51 0 1.02-.2 1.41-.59l7.78-7.78 2.81-2.81c.8-.78.8-2.07 0-2.86zM5.41 20L4 18.59l7.72-7.72 1.47 1.35L5.41 20z\"/>\n",
       "  </svg>\n",
       "      </button>\n",
       "      \n",
       "  <style>\n",
       "    .colab-df-container {\n",
       "      display:flex;\n",
       "      flex-wrap:wrap;\n",
       "      gap: 12px;\n",
       "    }\n",
       "\n",
       "    .colab-df-convert {\n",
       "      background-color: #E8F0FE;\n",
       "      border: none;\n",
       "      border-radius: 50%;\n",
       "      cursor: pointer;\n",
       "      display: none;\n",
       "      fill: #1967D2;\n",
       "      height: 32px;\n",
       "      padding: 0 0 0 0;\n",
       "      width: 32px;\n",
       "    }\n",
       "\n",
       "    .colab-df-convert:hover {\n",
       "      background-color: #E2EBFA;\n",
       "      box-shadow: 0px 1px 2px rgba(60, 64, 67, 0.3), 0px 1px 3px 1px rgba(60, 64, 67, 0.15);\n",
       "      fill: #174EA6;\n",
       "    }\n",
       "\n",
       "    [theme=dark] .colab-df-convert {\n",
       "      background-color: #3B4455;\n",
       "      fill: #D2E3FC;\n",
       "    }\n",
       "\n",
       "    [theme=dark] .colab-df-convert:hover {\n",
       "      background-color: #434B5C;\n",
       "      box-shadow: 0px 1px 3px 1px rgba(0, 0, 0, 0.15);\n",
       "      filter: drop-shadow(0px 1px 2px rgba(0, 0, 0, 0.3));\n",
       "      fill: #FFFFFF;\n",
       "    }\n",
       "  </style>\n",
       "\n",
       "      <script>\n",
       "        const buttonEl =\n",
       "          document.querySelector('#df-0dd71df9-b7d3-4e1a-9fa3-84ad314236f9 button.colab-df-convert');\n",
       "        buttonEl.style.display =\n",
       "          google.colab.kernel.accessAllowed ? 'block' : 'none';\n",
       "\n",
       "        async function convertToInteractive(key) {\n",
       "          const element = document.querySelector('#df-0dd71df9-b7d3-4e1a-9fa3-84ad314236f9');\n",
       "          const dataTable =\n",
       "            await google.colab.kernel.invokeFunction('convertToInteractive',\n",
       "                                                     [key], {});\n",
       "          if (!dataTable) return;\n",
       "\n",
       "          const docLinkHtml = 'Like what you see? Visit the ' +\n",
       "            '<a target=\"_blank\" href=https://colab.research.google.com/notebooks/data_table.ipynb>data table notebook</a>'\n",
       "            + ' to learn more about interactive tables.';\n",
       "          element.innerHTML = '';\n",
       "          dataTable['output_type'] = 'display_data';\n",
       "          await google.colab.output.renderOutput(dataTable, element);\n",
       "          const docLink = document.createElement('div');\n",
       "          docLink.innerHTML = docLinkHtml;\n",
       "          element.appendChild(docLink);\n",
       "        }\n",
       "      </script>\n",
       "    </div>\n",
       "  </div>\n",
       "  "
      ],
      "text/plain": [
       "              wage       hours          IQ         KWW        educ  \\\n",
       "count   935.000000  935.000000  935.000000  935.000000  935.000000   \n",
       "mean    957.945455   43.929412  101.282353   35.744385   13.468449   \n",
       "std     404.360822    7.224256   15.052636    7.638788    2.196654   \n",
       "min     115.000000   20.000000   50.000000   12.000000    9.000000   \n",
       "25%     669.000000   40.000000   92.000000   31.000000   12.000000   \n",
       "50%     905.000000   40.000000  102.000000   37.000000   12.000000   \n",
       "75%    1160.000000   48.000000  112.000000   41.000000   16.000000   \n",
       "max    3078.000000   80.000000  145.000000   56.000000   18.000000   \n",
       "\n",
       "            exper      tenure         age     married       black       south  \\\n",
       "count  935.000000  935.000000  935.000000  935.000000  935.000000  935.000000   \n",
       "mean    11.563636    7.234225   33.080214    0.893048    0.128342    0.341176   \n",
       "std      4.374586    5.075206    3.107803    0.309217    0.334650    0.474358   \n",
       "min      1.000000    0.000000   28.000000    0.000000    0.000000    0.000000   \n",
       "25%      8.000000    3.000000   30.000000    1.000000    0.000000    0.000000   \n",
       "50%     11.000000    7.000000   33.000000    1.000000    0.000000    0.000000   \n",
       "75%     15.000000   11.000000   36.000000    1.000000    0.000000    1.000000   \n",
       "max     23.000000   22.000000   38.000000    1.000000    1.000000    1.000000   \n",
       "\n",
       "            urban        sibs     brthord       meduc       feduc       lwage  \n",
       "count  935.000000  935.000000  852.000000  857.000000  741.000000  935.000000  \n",
       "mean     0.717647    2.941176    2.276995   10.682614   10.217274    6.779004  \n",
       "std      0.450385    2.306254    1.595613    2.849756    3.300700    0.421144  \n",
       "min      0.000000    0.000000    1.000000    0.000000    0.000000    4.744932  \n",
       "25%      0.000000    1.000000    1.000000    8.000000    8.000000    6.505783  \n",
       "50%      1.000000    2.000000    2.000000   12.000000   10.000000    6.807935  \n",
       "75%      1.000000    4.000000    3.000000   12.000000   12.000000    7.056175  \n",
       "max      1.000000   14.000000   10.000000   18.000000   18.000000    8.032035  "
      ]
     },
     "execution_count": 71,
     "metadata": {},
     "output_type": "execute_result"
    }
   ],
   "source": [
    "dataframe.describe()"
   ]
  },
  {
   "cell_type": "markdown",
   "metadata": {
    "id": "B_zYZ51zpRJK"
   },
   "source": [
    "So let's move on to the dealing with NA values in the dataframe. There are number of ways how we can act in this situation:\n",
    "* we can drop rows with missing data in dataframe\n",
    "* we can fill missing values with mean or median\n",
    "* we can use interpolation to fill missing values\n",
    "\n",
    "First of all, it worth mentioning that removing rows with NA entries would be incorrect, because, for instance, if we drop only rows with NA father education, we will lose approximately 20,74% of data:\n",
    "\n",
    "$$\n",
    "935-741=194 \\\\\n",
    "194÷935×100≈20,74\\%\n",
    "$$\n",
    "\n",
    "Therefore, since dropping data is not a good solution, we can consider applying the mean/median approach. But while this approach works well in case of the feduc and meduc, the complexities of doing so arise when we are trying to deal with the birthord, because, as we can see on the following diagrams, it a little bit modifies the form of our distribution, while interpolation preserves the form of distribution."
   ]
  },
  {
   "cell_type": "code",
   "execution_count": 72,
   "metadata": {
    "colab": {
     "base_uri": "https://localhost:8080/",
     "height": 851
    },
    "id": "q0ZMbnUdvKkf",
    "outputId": "37e02a92-426a-4fff-c08b-d6eb63d21252"
   },
   "outputs": [
    {
     "data": {
      "image/png": "[encoded data removed]",
      "text/plain": [
       "<Figure size 432x288 with 1 Axes>"
      ]
     },
     "metadata": {
      "needs_background": "light"
     },
     "output_type": "display_data"
    },
    {
     "data": {
      "image/png": "[encoded data removed]",
      "text/plain": [
       "<Figure size 432x288 with 1 Axes>"
      ]
     },
     "metadata": {
      "needs_background": "light"
     },
     "output_type": "display_data"
    },
    {
     "data": {
      "image/png": "[encoded data removed]",
      "text/plain": [
       "<Figure size 432x288 with 1 Axes>"
      ]
     },
     "metadata": {
      "needs_background": "light"
     },
     "output_type": "display_data"
    }
   ],
   "source": [
    "# Showing the row \"brthord\" data\n",
    "birth_order = dataframe[\"brthord\"]\n",
    "birth_order.hist()\n",
    "plt.xlabel(\"Birth order\")\n",
    "plt.title(\"Birth order with NA's\")\n",
    "plt.show()\n",
    "\n",
    "# Replacing NA's in \"brthord\" with mean\n",
    "birth_order_mean = dataframe[\"brthord\"].fillna(dataframe[\"brthord\"].mean())\n",
    "birth_order_mean.hist()\n",
    "plt.xlabel(\"Birth order\")\n",
    "plt.title(\"Birth order with NA's filled with mean\")\n",
    "plt.show()\n",
    "\n",
    "# Interpolating the missing values in the whole data\n",
    "dataframe.interpolate(method=\"linear\", limit_direction=\"forward\", limit_area=None, inplace=True)\n",
    "dataframe[\"brthord\"].hist()\n",
    "plt.xlabel(\"Birth order\")\n",
    "plt.title(\"Birth order with NA's filled with interpolation\")\n",
    "plt.show()"
   ]
  },
  {
   "cell_type": "markdown",
   "metadata": {
    "id": "nfyEvZEbzaQa"
   },
   "source": [
    "# Task 1\n",
    "After filling the missing data in the dataset, we can start working on the provided tasks."
   ]
  },
  {
   "cell_type": "markdown",
   "metadata": {
    "id": "Sc9CdBfc0du5"
   },
   "source": [
    "## Task 1.a\n",
    "### Problem setting\n",
    "For the variable wage compute the common location measures: mean, median, upper and lower quartiles, the upper and lower 5%-quantiles. Give an economic interpretation for every location measure.\n",
    "\n",
    "### Solution\n",
    "Let's compute the location measures:\n"
   ]
  },
  {
   "cell_type": "code",
   "execution_count": 73,
   "metadata": {
    "colab": {
     "base_uri": "https://localhost:8080/",
     "height": 281
    },
    "id": "cndPx_2O1IH-",
    "outputId": "65f7fd27-e729-4520-be92-2a3970d3eb41"
   },
   "outputs": [
    {
     "data": {
      "image/png": "[encoded data removed]",
      "text/plain": [
       "<Figure size 432x288 with 1 Axes>"
      ]
     },
     "metadata": {
      "needs_background": "light"
     },
     "output_type": "display_data"
    }
   ],
   "source": [
    "wage = dataframe[\"wage\"]\n",
    "\n",
    "# Location measures\n",
    "def location_measures(wage):\n",
    "  wage_mean = wage.mean()\n",
    "  wage_median = wage.median()\n",
    "  wage_Q3 = wage.quantile(0.75)\n",
    "  wage_Q1 = wage.quantile(0.25)\n",
    "  wage_upper_quantile = wage.quantile(0.95)\n",
    "  wage_lower_quantile = wage.quantile(0.05)\n",
    "\n",
    "  location_measures = pd.Series([wage_mean, wage_median, wage_Q3, wage_Q1, wage_upper_quantile, wage_lower_quantile])\n",
    "  location_measures.index = [\"Mean\", \"Median\", \"Wage upper quartile (Q3)\", \"Wage lower quartile (Q1)\", \"Wage upper quantile\", \"Wage lower quantile\"]\n",
    "  return location_measures\n",
    "\n",
    "location_measures = location_measures(wage)\n",
    "wage_mean, wage_median, wage_Q3, wage_Q1, wage_upper_quantile, wage_lower_quantile = location_measures\n",
    "\n",
    "wage.hist(bins=15)\n",
    "plt.axvline(wage_mean, color='red', linestyle='dashed', linewidth=2)\n",
    "plt.axvline(wage_median, color='yellow', linestyle='dashed', linewidth=2)\n",
    "plt.axvline(wage_Q3, color='green', linestyle='dashed', linewidth=2)\n",
    "plt.axvline(wage_Q1, color='green', linestyle='dashed', linewidth=2)\n",
    "\n",
    "plt.legend(['Mean', 'Median', 'Q3', 'Q1'])\n",
    "plt.title('Location measures')\n",
    "plt.show()"
   ]
  },
  {
   "cell_type": "markdown",
   "metadata": {
    "id": "Cdg9Vh6I3qBk"
   },
   "source": [
    "As it is expected our data is right-skewed, which is rather logical, because most population earn, so to say, the \"average wages\", while there are also people who have huge companies, which, obviously, results in higher wages.\n",
    "\n",
    "Taking this discussion even further we can even state that the histogram we got reflects the distribution of wages of the social classes, where obviously most of the population is the part of the middle-class (roughly speaking between the first and third quartile of our histogram), while there are not so many people in lower and upper classes."
   ]
  },
  {
   "cell_type": "markdown",
   "metadata": {
    "id": "ZxPegkeH3kyZ"
   },
   "source": [
    "## Task 1.b\n",
    "### Problem setting\n",
    "Compute the corresponding measures of variation for wage: range, interquartile range, variance. Comment on the results. Check whether 3 − sigma rule holds true.\n",
    "\n",
    "### Solution\n",
    "Again, let's code this task and give the demanded explanations afterwards"
   ]
  },
  {
   "cell_type": "code",
   "execution_count": 74,
   "metadata": {
    "colab": {
     "base_uri": "https://localhost:8080/",
     "height": 482
    },
    "id": "Z7Sj51BN9cRK",
    "outputId": "91fc212d-cbd3-4bdb-b1d2-f1ad9712e223"
   },
   "outputs": [
    {
     "name": "stdout",
     "output_type": "stream",
     "text": [
      "Minimal                   115.000000\n",
      "Maximal                  3078.000000\n",
      "Range                    2963.000000\n",
      "Interquartile range       491.000000\n",
      "Variance               163507.674752\n",
      "Standard deviation        404.360822\n",
      "dtype: float64 \n",
      "\n",
      "For sigma 1 the percentage of covered data is 71.76%\n",
      "For sigma 2 the percentage of covered data is 96.04%\n",
      "For sigma 3 the percentage of covered data is 98.93%\n"
     ]
    },
    {
     "data": {
      "image/png": "[encoded data removed]",
      "text/plain": [
       "<Figure size 432x288 with 1 Axes>"
      ]
     },
     "metadata": {
      "needs_background": "light"
     },
     "output_type": "display_data"
    }
   ],
   "source": [
    "# Variation measures\n",
    "def variation_measures(wage):\n",
    "  wage_min = wage.min()\n",
    "  wage_max = wage.max()\n",
    "  wage_range = wage_max - wage_min\n",
    "  wage_IQR = wage_Q3 - wage_Q1\n",
    "  wage_variance = wage.var()\n",
    "  wage_stand_dev = wage.std()\n",
    "\n",
    "  variation_measures = pd.Series([wage_min, wage_max, wage_range, wage_IQR, wage_variance, wage_stand_dev])\n",
    "  variation_measures.index = [\"Minimal\", \"Maximal\", \"Range\", \"Interquartile range\", \"Variance\", \"Standard deviation\"]\n",
    "  return variation_measures\n",
    "\n",
    "variation_measures = variation_measures(wage)\n",
    "wage_min, wage_max, wage_range, wage_IQR, wage_variance, wage_stand_dev = variation_measures\n",
    "print(variation_measures, \"\\n\")\n",
    "\n",
    "# Checking 3-sigma rule\n",
    "wage.hist(bins=15)\n",
    "\n",
    "sigmas = [1, 2, 3]\n",
    "colors = [\"red\", \"orange\", \"yellow\"]\n",
    "for i in range(len(sigmas)):\n",
    "  positive_sigma = wage_mean + sigmas[i] * wage_stand_dev\n",
    "  negative_sigma = wage_mean - sigmas[i] * wage_stand_dev\n",
    "\n",
    "  plt.axvline(positive_sigma, color=colors[i], linestyle='dashed', linewidth=2)\n",
    "  plt.axvline(negative_sigma, color=colors[i], linestyle='dashed', linewidth=2)\n",
    "  \n",
    "  condition = (dataframe[\"wage\"] < positive_sigma) & (dataframe[\"wage\"] > negative_sigma)\n",
    "  selected = dataframe[condition]\n",
    "  percentage = round(len(selected) / len(dataframe) * 100, 2)\n",
    "  print(f\"For sigma {sigmas[i]} the percentage of covered data is {percentage}%\")\n",
    "\n",
    "\n",
    "plt.legend(['1σ', '2σ', '3σ'])\n",
    "plt.title('3σ-rule visualized')\n",
    "plt.show()\n",
    "\n"
   ]
  },
  {
   "cell_type": "markdown",
   "metadata": {
    "id": "GdkcnQG8_oBG"
   },
   "source": [
    "Let's have a brief comment on each of the variation measures:\n",
    "* Range basically tells us the gap between the maximal and minimal value of wage, which is good for understanding how far are the extreme values of population wages located. In other words, we by calculating the range we may see the difference between the maximal and minimal wage value observation in our sample\n",
    "* Interquartile range tells us the gap between the 3-rd and 1-st quartiles of the data and it might be usefult in case that we want to spot the outliers that our sample has. We will discuss the outliers more exhaustively while making the boxplot for our data\n",
    "* Standard deviation (square root of variance) is basically the tool to understand how much on average our observation's wage declines from the mean. It is also very useful in proving the 3σ-rule, which is covered next in our report\n",
    "\n",
    "Now, the 3σ-rule basically tell us that:\n",
    "* percentage of data located between -1σ and 1σ is ~68%\n",
    "* percentage of data located between -2σ and 2σ is ~95%\n",
    "* percentage of data located between -3σ and 3σ is ~99.7%\n",
    "\n",
    "As we may see from the results of our analysis it actually aproximately holds true, because we have ~72%, 96% and 99% of data distributed between 1σ, 2σ and 3σ accordingly"
   ]
  },
  {
   "cell_type": "markdown",
   "metadata": {
    "id": "PBqmE_jiEd2d"
   },
   "source": [
    "## Task 1.c\n",
    "### Problem Setting\n",
    "Plot the histogram of wage and the Box-plot. Compute skewness of the data and make the conclusion whether the distribution of this variable is symmetric.\n",
    "\n",
    "### Solution\n",
    "\n"
   ]
  },
  {
   "cell_type": "code",
   "execution_count": 75,
   "metadata": {
    "colab": {
     "base_uri": "https://localhost:8080/",
     "height": 832
    },
    "id": "2ocrEBxLFR5W",
    "outputId": "ae404e32-bbdd-4268-e801-6260d9c9f62d"
   },
   "outputs": [
    {
     "data": {
      "image/png": "[encoded data removed]",
      "text/plain": [
       "<Figure size 432x288 with 1 Axes>"
      ]
     },
     "metadata": {
      "needs_background": "light"
     },
     "output_type": "display_data"
    },
    {
     "data": {
      "text/html": [
       "<html>\n",
       "<head><meta charset=\"utf-8\" /></head>\n",
       "<body>\n",
       "    <div>            <script src=\"https://cdnjs.cloudflare.com/ajax/libs/mathjax/2.7.5/MathJax.js?config=TeX-AMS-MML_SVG\"></script><script type=\"text/javascript\">if (window.MathJax && window.MathJax.Hub && window.MathJax.Hub.Config) {window.MathJax.Hub.Config({SVG: {font: \"STIX-Web\"}});}</script>                <script type=\"text/javascript\">window.PlotlyConfig = {MathJaxConfig: 'local'};</script>\n",
       "        <script src=\"https://cdn.plot.ly/plotly-2.18.2.min.js\"></script>                <div id=\"1619bc0a-4428-4d25-b713-1766bdddffaa\" class=\"plotly-graph-div\" style=\"height:500px; width:800px;\"></div>            <script type=\"text/javascript\">                                    window.PLOTLYENV=window.PLOTLYENV || {};                                    if (document.getElementById(\"1619bc0a-4428-4d25-b713-1766bdddffaa\")) {                    Plotly.newPlot(                        \"1619bc0a-4428-4d25-b713-1766bdddffaa\",                        [{\"alignmentgroup\":\"True\",\"boxpoints\":\"all\",\"hovertemplate\":\"wage=%{y}<extra></extra>\",\"legendgroup\":\"\",\"marker\":{\"color\":\"#636efa\"},\"name\":\"\",\"notched\":false,\"offsetgroup\":\"\",\"orientation\":\"v\",\"showlegend\":false,\"x0\":\" \",\"xaxis\":\"x\",\"y\":[769,808,825,650,562,1400,600,1081,1154,1000,930,921,900,1318,1792,958,1360,850,830,471,1275,1615,873,2137,1053,1602,1188,800,1417,635,1000,1424,2668,666,1779,782,1572,1274,714,1081,692,1318,1239,1027,1748,981,770,1154,1155,808,1100,1154,1749,1000,462,769,875,1375,1452,800,1748,1151,840,978,963,619,442,600,1366,1643,1455,2310,1682,1235,855,1072,1040,1000,675,1100,996,732,1200,1694,686,754,857,832,579,672,2500,1076,750,1186,833,650,1250,1122,865,808,1299,903,900,625,1586,962,1539,1110,1282,770,1000,895,1205,750,654,601,600,433,1188,635,1225,1151,865,1031,1049,1000,1105,1924,1346,809,1495,1346,1200,500,1325,900,800,800,1034,980,884,480,923,513,1105,1193,2771,779,950,1394,1495,650,670,1126,450,1028,2404,1899,757,1250,1162,1025,1100,714,1318,1411,2162,1273,1140,578,942,1058,750,1000,951,635,1250,675,400,577,590,923,1250,1100,1130,652,618,962,529,817,962,840,866,2404,1126,1160,723,1778,1903,1010,971,525,525,670,500,1058,550,500,727,865,1081,1304,575,623,515,1273,990,600,1160,500,795,500,740,1250,1014,1250,913,1346,445,265,1250,1607,1452,1391,821,794,500,520,1730,1924,1155,2162,923,1115,449,1500,826,937,978,1031,1272,1136,800,1339,1063,935,808,375,537,1082,930,1155,548,622,841,769,587,1924,1058,417,1202,1154,1070,1202,711,1202,850,1000,490,1000,865,1375,1586,1602,3078,898,906,952,571,445,289,1444,962,1075,909,1250,620,1016,800,1050,1079,654,781,1038,1924,1202,666,905,890,817,812,577,756,1011,1155,1025,1350,1001,796,1230,754,714,1000,2067,912,600,951,711,1151,1000,841,400,1175,1202,1442,538,781,750,841,700,1346,800,1250,1105,475,762,962,721,800,658,1270,1313,824,1442,1400,1038,668,1100,1000,523,1111,962,729,690,1010,600,596,850,670,793,1442,670,876,841,975,1223,910,533,750,1206,745,900,1170,540,550,615,909,769,984,833,879,1027,1000,465,1100,641,1035,1212,950,938,1250,586,693,562,375,673,654,692,1111,1368,1282,1250,1346,1424,854,888,1161,583,1260,947,1850,1575,758,1442,489,1126,1000,500,1200,565,1920,684,774,233,975,1366,2137,700,1200,1161,729,750,1026,1111,625,1200,1541,1154,310,610,1749,1000,350,765,790,818,477,938,2099,350,940,1202,450,1058,1000,318,556,958,995,1600,606,511,1411,1346,1522,1075,1200,1377,874,625,1250,1082,693,727,615,913,884,698,800,812,1000,549,1300,923,1539,721,815,600,1100,1058,962,433,940,1417,1000,500,800,766,750,550,795,723,1039,200,400,575,850,508,1162,1199,1270,350,963,1463,802,642,751,488,1400,940,866,675,375,325,346,1442,560,550,950,684,1322,1634,417,472,666,1679,1039,1250,760,1154,1602,1442,865,705,1000,852,770,1000,1329,1682,577,685,577,1040,1250,600,480,1000,988,478,440,485,705,1550,960,1000,625,1346,961,479,1201,1346,1122,543,450,507,547,586,462,705,1566,1634,1282,556,1200,855,1053,1000,900,1602,508,1500,1682,750,843,409,1004,650,808,2137,761,769,345,495,987,2500,1098,1212,577,390,1500,583,460,945,1442,1333,1500,1333,700,973,2162,797,400,1015,1744,630,445,660,779,377,560,1122,453,1386,1539,1154,962,722,480,808,1442,1091,350,500,1026,577,1333,915,1105,910,1000,1160,1001,713,929,400,1241,1065,403,940,812,700,575,450,621,441,625,726,500,1000,393,600,962,962,865,1154,1386,732,865,700,975,1300,900,829,1000,827,500,1155,950,700,1710,533,2004,890,3078,1539,508,1354,1143,962,1250,990,905,926,1559,1312,923,879,800,1049,550,1190,583,1200,797,1371,360,1270,1832,909,1746,520,808,2137,692,931,812,866,1442,500,1384,528,881,1026,1212,1620,1843,1602,1000,737,1699,1699,1025,1107,625,720,855,1250,1130,900,1924,962,1874,1573,940,900,882,1710,1260,751,1097,1001,1154,1000,1250,857,1211,937,904,872,1200,1261,950,115,673,1084,1058,800,369,1924,855,864,1092,1025,850,673,800,1049,884,800,1200,664,1111,850,1000,875,1202,666,923,788,950,1442,866,625,680,693,875,2308,1196,700,721,1500,1050,801,640,1198,390,889,1076,1127,750,855,525,1104,553,800,1384,425,510,370,596,402,418,1133,681,950,600,661,925,550,606,425,340,692,575,571,817,987,616,1026,808,808,788,850,900,1418,260,662,562,562,357,1009,1442,651,750,754,700,503,937,624,750,900,540,642,400,900,513,894,1282,485,325,769,618,1040,751,380,300,753,1065,1070,1573,650,700,494,890,520,891,570,1444,481,500,1473,803,962,1000,600,450,629,492,1562,357,960,566,481,1442,645,788,644,477,664,520,1202,538,873,1000],\"y0\":\" \",\"yaxis\":\"y\",\"type\":\"box\"}],                        {\"template\":{\"data\":{\"histogram2dcontour\":[{\"type\":\"histogram2dcontour\",\"colorbar\":{\"outlinewidth\":0,\"ticks\":\"\"},\"colorscale\":[[0.0,\"#0d0887\"],[0.1111111111111111,\"#46039f\"],[0.2222222222222222,\"#7201a8\"],[0.3333333333333333,\"#9c179e\"],[0.4444444444444444,\"#bd3786\"],[0.5555555555555556,\"#d8576b\"],[0.6666666666666666,\"#ed7953\"],[0.7777777777777778,\"#fb9f3a\"],[0.8888888888888888,\"#fdca26\"],[1.0,\"#f0f921\"]]}],\"choropleth\":[{\"type\":\"choropleth\",\"colorbar\":{\"outlinewidth\":0,\"ticks\":\"\"}}],\"histogram2d\":[{\"type\":\"histogram2d\",\"colorbar\":{\"outlinewidth\":0,\"ticks\":\"\"},\"colorscale\":[[0.0,\"#0d0887\"],[0.1111111111111111,\"#46039f\"],[0.2222222222222222,\"#7201a8\"],[0.3333333333333333,\"#9c179e\"],[0.4444444444444444,\"#bd3786\"],[0.5555555555555556,\"#d8576b\"],[0.6666666666666666,\"#ed7953\"],[0.7777777777777778,\"#fb9f3a\"],[0.8888888888888888,\"#fdca26\"],[1.0,\"#f0f921\"]]}],\"heatmap\":[{\"type\":\"heatmap\",\"colorbar\":{\"outlinewidth\":0,\"ticks\":\"\"},\"colorscale\":[[0.0,\"#0d0887\"],[0.1111111111111111,\"#46039f\"],[0.2222222222222222,\"#7201a8\"],[0.3333333333333333,\"#9c179e\"],[0.4444444444444444,\"#bd3786\"],[0.5555555555555556,\"#d8576b\"],[0.6666666666666666,\"#ed7953\"],[0.7777777777777778,\"#fb9f3a\"],[0.8888888888888888,\"#fdca26\"],[1.0,\"#f0f921\"]]}],\"heatmapgl\":[{\"type\":\"heatmapgl\",\"colorbar\":{\"outlinewidth\":0,\"ticks\":\"\"},\"colorscale\":[[0.0,\"#0d0887\"],[0.1111111111111111,\"#46039f\"],[0.2222222222222222,\"#7201a8\"],[0.3333333333333333,\"#9c179e\"],[0.4444444444444444,\"#bd3786\"],[0.5555555555555556,\"#d8576b\"],[0.6666666666666666,\"#ed7953\"],[0.7777777777777778,\"#fb9f3a\"],[0.8888888888888888,\"#fdca26\"],[1.0,\"#f0f921\"]]}],\"contourcarpet\":[{\"type\":\"contourcarpet\",\"colorbar\":{\"outlinewidth\":0,\"ticks\":\"\"}}],\"contour\":[{\"type\":\"contour\",\"colorbar\":{\"outlinewidth\":0,\"ticks\":\"\"},\"colorscale\":[[0.0,\"#0d0887\"],[0.1111111111111111,\"#46039f\"],[0.2222222222222222,\"#7201a8\"],[0.3333333333333333,\"#9c179e\"],[0.4444444444444444,\"#bd3786\"],[0.5555555555555556,\"#d8576b\"],[0.6666666666666666,\"#ed7953\"],[0.7777777777777778,\"#fb9f3a\"],[0.8888888888888888,\"#fdca26\"],[1.0,\"#f0f921\"]]}],\"surface\":[{\"type\":\"surface\",\"colorbar\":{\"outlinewidth\":0,\"ticks\":\"\"},\"colorscale\":[[0.0,\"#0d0887\"],[0.1111111111111111,\"#46039f\"],[0.2222222222222222,\"#7201a8\"],[0.3333333333333333,\"#9c179e\"],[0.4444444444444444,\"#bd3786\"],[0.5555555555555556,\"#d8576b\"],[0.6666666666666666,\"#ed7953\"],[0.7777777777777778,\"#fb9f3a\"],[0.8888888888888888,\"#fdca26\"],[1.0,\"#f0f921\"]]}],\"mesh3d\":[{\"type\":\"mesh3d\",\"colorbar\":{\"outlinewidth\":0,\"ticks\":\"\"}}],\"scatter\":[{\"fillpattern\":{\"fillmode\":\"overlay\",\"size\":10,\"solidity\":0.2},\"type\":\"scatter\"}],\"parcoords\":[{\"type\":\"parcoords\",\"line\":{\"colorbar\":{\"outlinewidth\":0,\"ticks\":\"\"}}}],\"scatterpolargl\":[{\"type\":\"scatterpolargl\",\"marker\":{\"colorbar\":{\"outlinewidth\":0,\"ticks\":\"\"}}}],\"bar\":[{\"error_x\":{\"color\":\"#2a3f5f\"},\"error_y\":{\"color\":\"#2a3f5f\"},\"marker\":{\"line\":{\"color\":\"#E5ECF6\",\"width\":0.5},\"pattern\":{\"fillmode\":\"overlay\",\"size\":10,\"solidity\":0.2}},\"type\":\"bar\"}],\"scattergeo\":[{\"type\":\"scattergeo\",\"marker\":{\"colorbar\":{\"outlinewidth\":0,\"ticks\":\"\"}}}],\"scatterpolar\":[{\"type\":\"scatterpolar\",\"marker\":{\"colorbar\":{\"outlinewidth\":0,\"ticks\":\"\"}}}],\"histogram\":[{\"marker\":{\"pattern\":{\"fillmode\":\"overlay\",\"size\":10,\"solidity\":0.2}},\"type\":\"histogram\"}],\"scattergl\":[{\"type\":\"scattergl\",\"marker\":{\"colorbar\":{\"outlinewidth\":0,\"ticks\":\"\"}}}],\"scatter3d\":[{\"type\":\"scatter3d\",\"line\":{\"colorbar\":{\"outlinewidth\":0,\"ticks\":\"\"}},\"marker\":{\"colorbar\":{\"outlinewidth\":0,\"ticks\":\"\"}}}],\"scattermapbox\":[{\"type\":\"scattermapbox\",\"marker\":{\"colorbar\":{\"outlinewidth\":0,\"ticks\":\"\"}}}],\"scatterternary\":[{\"type\":\"scatterternary\",\"marker\":{\"colorbar\":{\"outlinewidth\":0,\"ticks\":\"\"}}}],\"scattercarpet\":[{\"type\":\"scattercarpet\",\"marker\":{\"colorbar\":{\"outlinewidth\":0,\"ticks\":\"\"}}}],\"carpet\":[{\"aaxis\":{\"endlinecolor\":\"#2a3f5f\",\"gridcolor\":\"white\",\"linecolor\":\"white\",\"minorgridcolor\":\"white\",\"startlinecolor\":\"#2a3f5f\"},\"baxis\":{\"endlinecolor\":\"#2a3f5f\",\"gridcolor\":\"white\",\"linecolor\":\"white\",\"minorgridcolor\":\"white\",\"startlinecolor\":\"#2a3f5f\"},\"type\":\"carpet\"}],\"table\":[{\"cells\":{\"fill\":{\"color\":\"#EBF0F8\"},\"line\":{\"color\":\"white\"}},\"header\":{\"fill\":{\"color\":\"#C8D4E3\"},\"line\":{\"color\":\"white\"}},\"type\":\"table\"}],\"barpolar\":[{\"marker\":{\"line\":{\"color\":\"#E5ECF6\",\"width\":0.5},\"pattern\":{\"fillmode\":\"overlay\",\"size\":10,\"solidity\":0.2}},\"type\":\"barpolar\"}],\"pie\":[{\"automargin\":true,\"type\":\"pie\"}]},\"layout\":{\"autotypenumbers\":\"strict\",\"colorway\":[\"#636efa\",\"#EF553B\",\"#00cc96\",\"#ab63fa\",\"#FFA15A\",\"#19d3f3\",\"#FF6692\",\"#B6E880\",\"#FF97FF\",\"#FECB52\"],\"font\":{\"color\":\"#2a3f5f\"},\"hovermode\":\"closest\",\"hoverlabel\":{\"align\":\"left\"},\"paper_bgcolor\":\"white\",\"plot_bgcolor\":\"#E5ECF6\",\"polar\":{\"bgcolor\":\"#E5ECF6\",\"angularaxis\":{\"gridcolor\":\"white\",\"linecolor\":\"white\",\"ticks\":\"\"},\"radialaxis\":{\"gridcolor\":\"white\",\"linecolor\":\"white\",\"ticks\":\"\"}},\"ternary\":{\"bgcolor\":\"#E5ECF6\",\"aaxis\":{\"gridcolor\":\"white\",\"linecolor\":\"white\",\"ticks\":\"\"},\"baxis\":{\"gridcolor\":\"white\",\"linecolor\":\"white\",\"ticks\":\"\"},\"caxis\":{\"gridcolor\":\"white\",\"linecolor\":\"white\",\"ticks\":\"\"}},\"coloraxis\":{\"colorbar\":{\"outlinewidth\":0,\"ticks\":\"\"}},\"colorscale\":{\"sequential\":[[0.0,\"#0d0887\"],[0.1111111111111111,\"#46039f\"],[0.2222222222222222,\"#7201a8\"],[0.3333333333333333,\"#9c179e\"],[0.4444444444444444,\"#bd3786\"],[0.5555555555555556,\"#d8576b\"],[0.6666666666666666,\"#ed7953\"],[0.7777777777777778,\"#fb9f3a\"],[0.8888888888888888,\"#fdca26\"],[1.0,\"#f0f921\"]],\"sequentialminus\":[[0.0,\"#0d0887\"],[0.1111111111111111,\"#46039f\"],[0.2222222222222222,\"#7201a8\"],[0.3333333333333333,\"#9c179e\"],[0.4444444444444444,\"#bd3786\"],[0.5555555555555556,\"#d8576b\"],[0.6666666666666666,\"#ed7953\"],[0.7777777777777778,\"#fb9f3a\"],[0.8888888888888888,\"#fdca26\"],[1.0,\"#f0f921\"]],\"diverging\":[[0,\"#8e0152\"],[0.1,\"#c51b7d\"],[0.2,\"#de77ae\"],[0.3,\"#f1b6da\"],[0.4,\"#fde0ef\"],[0.5,\"#f7f7f7\"],[0.6,\"#e6f5d0\"],[0.7,\"#b8e186\"],[0.8,\"#7fbc41\"],[0.9,\"#4d9221\"],[1,\"#276419\"]]},\"xaxis\":{\"gridcolor\":\"white\",\"linecolor\":\"white\",\"ticks\":\"\",\"title\":{\"standoff\":15},\"zerolinecolor\":\"white\",\"automargin\":true,\"zerolinewidth\":2},\"yaxis\":{\"gridcolor\":\"white\",\"linecolor\":\"white\",\"ticks\":\"\",\"title\":{\"standoff\":15},\"zerolinecolor\":\"white\",\"automargin\":true,\"zerolinewidth\":2},\"scene\":{\"xaxis\":{\"backgroundcolor\":\"#E5ECF6\",\"gridcolor\":\"white\",\"linecolor\":\"white\",\"showbackground\":true,\"ticks\":\"\",\"zerolinecolor\":\"white\",\"gridwidth\":2},\"yaxis\":{\"backgroundcolor\":\"#E5ECF6\",\"gridcolor\":\"white\",\"linecolor\":\"white\",\"showbackground\":true,\"ticks\":\"\",\"zerolinecolor\":\"white\",\"gridwidth\":2},\"zaxis\":{\"backgroundcolor\":\"#E5ECF6\",\"gridcolor\":\"white\",\"linecolor\":\"white\",\"showbackground\":true,\"ticks\":\"\",\"zerolinecolor\":\"white\",\"gridwidth\":2}},\"shapedefaults\":{\"line\":{\"color\":\"#2a3f5f\"}},\"annotationdefaults\":{\"arrowcolor\":\"#2a3f5f\",\"arrowhead\":0,\"arrowwidth\":1},\"geo\":{\"bgcolor\":\"white\",\"landcolor\":\"#E5ECF6\",\"subunitcolor\":\"white\",\"showland\":true,\"showlakes\":true,\"lakecolor\":\"white\"},\"title\":{\"x\":0.05},\"mapbox\":{\"style\":\"light\"}}},\"xaxis\":{\"anchor\":\"y\",\"domain\":[0.0,1.0]},\"yaxis\":{\"anchor\":\"x\",\"domain\":[0.0,1.0],\"title\":{\"text\":\"wage\"}},\"legend\":{\"tracegroupgap\":0},\"margin\":{\"t\":60},\"boxmode\":\"group\",\"height\":500,\"width\":800},                        {\"responsive\": true}                    ).then(function(){\n",
       "                            \n",
       "var gd = document.getElementById('1619bc0a-4428-4d25-b713-1766bdddffaa');\n",
       "var x = new MutationObserver(function (mutations, observer) {{\n",
       "        var display = window.getComputedStyle(gd).display;\n",
       "        if (!display || display === 'none') {{\n",
       "            console.log([gd, 'removed!']);\n",
       "            Plotly.purge(gd);\n",
       "            observer.disconnect();\n",
       "        }}\n",
       "}});\n",
       "\n",
       "// Listen for the removal of the full notebook cells\n",
       "var notebookContainer = gd.closest('#notebook-container');\n",
       "if (notebookContainer) {{\n",
       "    x.observe(notebookContainer, {childList: true});\n",
       "}}\n",
       "\n",
       "// Listen for the clearing of the current output cell\n",
       "var outputEl = gd.closest('.output');\n",
       "if (outputEl) {{\n",
       "    x.observe(outputEl, {childList: true});\n",
       "}}\n",
       "\n",
       "                        })                };                            </script>        </div>\n",
       "</body>\n",
       "</html>"
      ]
     },
     "metadata": {},
     "output_type": "display_data"
    },
    {
     "data": {
      "text/plain": [
       "Skewness    1.201187\n",
       "dtype: float64"
      ]
     },
     "execution_count": 75,
     "metadata": {},
     "output_type": "execute_result"
    }
   ],
   "source": [
    "# Make histogram with skewed and non-skewed data\n",
    "wage.hist(bins=15, density=True, alpha=0.5)\n",
    "plt.xlabel(\"Wage ($)\")\n",
    "plt.title(\"Wage data\")\n",
    "\n",
    "non_skwd_wage_mean = (wage_max - wage_min)/2\n",
    "\n",
    "xmin, xmax = plt.xlim()\n",
    "x = np.linspace(xmin, xmax, 100)\n",
    "p1 = norm.pdf(x, wage_mean, wage_stand_dev)\n",
    "p2 = norm.pdf(x, non_skwd_wage_mean, wage_stand_dev)\n",
    "\n",
    "plt.plot(x, p1, color=\"red\", linewidth=2, label='Normal Skewed')\n",
    "plt.plot(x, p2, color=\"blue\", linewidth=2, label='Normal Non-skewed')\n",
    "\n",
    "plt.axvline(wage_mean, color='red', linestyle='dashed', linewidth=2)\n",
    "plt.axvline(non_skwd_wage_mean, color='blue', linestyle='dashed', linewidth=2)\n",
    "\n",
    "plt.gca().set_yticklabels([])\n",
    "plt.legend(['Normal Skewed', 'Normal Non-skewed'])\n",
    "plt.show()\n",
    "\n",
    "# Make boxplot\n",
    "fig = px.box(wage, y=\"wage\", points=\"all\")\n",
    "fig.update_layout(\n",
    "    height=500,\n",
    "    width=800\n",
    ")\n",
    "fig.show()\n",
    "\n",
    "# Calculate skewness\n",
    "wage_skew = wage.skew()\n",
    "skewness = pd.Series([wage_skew])\n",
    "skewness.index = [\"Skewness\"]\n",
    "skewness"
   ]
  },
  {
   "cell_type": "markdown",
   "metadata": {
    "id": "9AXczKwibnKg"
   },
   "source": [
    "We have already established that visually our data is right(positively)-skewed, now we have this proved with the skewness statistic, which is ~1.2011. This also means that our data is not symmetric. You can compare our data distribution colored red and the non-skewed symmetric distribution on the histogram above.\n",
    "\n",
    "Now concerning the boxplot. As we may see above, there are a couple of outliers lying beside the boxplot. Essentially those outliers are making our data-distribution right-skewed and will negatively influence the model prediction abilities.\n",
    "\n",
    "But before we remove those outliers from the dataset, let's complete task 1.d in oreder to get useful insights about applying logarithm to our data."
   ]
  },
  {
   "cell_type": "markdown",
   "metadata": {
    "id": "cyE69pE9eStv"
   },
   "source": [
    "## Task 1.d\n",
    "### Problem Setting\n",
    "Consider the natural logarithm of the wage . Plot the histogram for log(wage) and compare it with the histogram for original data. Compute the skewness of log(wage) and make the corresponding conclusions.\n",
    "\n",
    "### Solution\n",
    "Instead of computing the log-wage we will use the lwage column in our dataset with already computed log values of wage"
   ]
  },
  {
   "cell_type": "code",
   "execution_count": 76,
   "metadata": {
    "colab": {
     "base_uri": "https://localhost:8080/",
     "height": 646
    },
    "id": "92y7y3ECehoE",
    "outputId": "f5bb4e3e-69b8-4458-cfa4-a0338a0fc386"
   },
   "outputs": [
    {
     "data": {
      "image/png": "[encoded data removed]",
      "text/plain": [
       "<Figure size 432x288 with 1 Axes>"
      ]
     },
     "metadata": {
      "needs_background": "light"
     },
     "output_type": "display_data"
    },
    {
     "data": {
      "image/png": "[encoded data removed]",
      "text/plain": [
       "<Figure size 432x288 with 1 Axes>"
      ]
     },
     "metadata": {
      "needs_background": "light"
     },
     "output_type": "display_data"
    },
    {
     "name": "stdout",
     "output_type": "stream",
     "text": [
      "Skewness    1.201187\n",
      "dtype: float64\n",
      "Log-wage skewness   -0.271149\n",
      "dtype: float64\n"
     ]
    }
   ],
   "source": [
    "log_wage = dataframe[\"lwage\"]\n",
    "log_wage_skew = log_wage.skew()\n",
    "log_wage_skewness = pd.Series([log_wage_skew])\n",
    "log_wage_skewness.index = [\"Log-wage skewness\"]\n",
    "\n",
    "wage.hist(bins=15)\n",
    "plt.axvline(wage_mean, color='red', linestyle='dashed', linewidth=2)\n",
    "plt.xlabel(\"Wage\")\n",
    "plt.ylabel(\"Amount\")\n",
    "plt.title(\"Wage data\")\n",
    "plt.show()\n",
    "\n",
    "log_wage.hist(bins=15)\n",
    "plt.axvline(log_wage.mean(), color='red', linestyle='dashed', linewidth=2)\n",
    "plt.xlabel(\"Log-wage\")\n",
    "plt.title(\"Log-wage data\")\n",
    "plt.show()\n",
    "\n",
    "print(skewness)\n",
    "print(log_wage_skewness)"
   ]
  },
  {
   "cell_type": "markdown",
   "metadata": {
    "id": "p_7zQGx9fGHx"
   },
   "source": [
    "Obviously, as we can see, logarithming the data, makes it more symmetrically distributed which can be implied both by histograms and skewness statistic (log-wage skewness is quite close to 0, which means that distribution is nearly symmetrical)"
   ]
  },
  {
   "cell_type": "markdown",
   "metadata": {
    "id": "TV0Qq55tliFw"
   },
   "source": [
    "## Removing outliers\n",
    "\n",
    "Now, since we collected all necessary insights about our data, we can clean it from the outliers for our future linear regression model to perform better estimations.\n",
    "\n",
    "Actually we have chosen to do this, because we found out that by removing the outliers we lose only 3% of our data, which is quite a fair trade for model accuracy"
   ]
  },
  {
   "cell_type": "code",
   "execution_count": 77,
   "metadata": {
    "colab": {
     "base_uri": "https://localhost:8080/",
     "height": 313
    },
    "id": "BQJbNiGyl0Q4",
    "outputId": "fe06a352-f5ce-47ee-ba4c-61b806d68e35"
   },
   "outputs": [
    {
     "name": "stdout",
     "output_type": "stream",
     "text": [
      "We are losing 0% of data\n"
     ]
    },
    {
     "data": {
      "image/png": "[encoded data removed]",
      "text/plain": [
       "<Figure size 432x288 with 1 Axes>"
      ]
     },
     "metadata": {
      "needs_background": "light"
     },
     "output_type": "display_data"
    }
   ],
   "source": [
    "upper = wage_Q3 + 1.5 * wage_IQR\n",
    "lower = wage_Q1 - 1.5 * wage_IQR\n",
    "\n",
    "old_size = len(dataframe)\n",
    "cleaned = dataframe[dataframe[\"wage\"] < upper]\n",
    "cleaned = cleaned[cleaned[\"wage\"] > lower]\n",
    "new_size = len(dataframe)\n",
    "\n",
    "loss = round((1 - new_size / old_size)*100)\n",
    "print(f\"We are losing {loss}% of data\")\n",
    "\n",
    "dataframe[\"wage\"].hist()\n",
    "plt.axvline(dataframe[\"wage\"].mean(), color='red', linestyle='dashed', linewidth=2)\n",
    "plt.xlabel(\"Wage\")\n",
    "plt.title(\"Wage data\")\n",
    "plt.show()"
   ]
  },
  {
   "cell_type": "markdown",
   "metadata": {
    "id": "PRhaOOeAlYQt"
   },
   "source": [
    "## Task 1.e\n",
    "### Problem Setting\n",
    "Plot the scatter plots of wage vs. hours, IQ, KWW , educ, exper, tenure, age. Compute the corresponding correlation coefficients and interpret the results.\n",
    "\n",
    "### Solution"
   ]
  },
  {
   "cell_type": "code",
   "execution_count": 78,
   "metadata": {
    "colab": {
     "base_uri": "https://localhost:8080/",
     "height": 1000
    },
    "id": "i2mszl6bouYY",
    "outputId": "77538651-635c-4f9a-a4de-fe1e1f9cad06"
   },
   "outputs": [
    {
     "data": {
      "image/png": "[encoded data removed]",
      "text/plain": [
       "<Figure size 432x288 with 1 Axes>"
      ]
     },
     "metadata": {
      "needs_background": "light"
     },
     "output_type": "display_data"
    },
    {
     "data": {
      "image/png": "[encoded data removed]",
      "text/plain": [
       "<Figure size 432x288 with 1 Axes>"
      ]
     },
     "metadata": {
      "needs_background": "light"
     },
     "output_type": "display_data"
    },
    {
     "data": {
      "image/png": "[encoded data removed]",
      "text/plain": [
       "<Figure size 432x288 with 1 Axes>"
      ]
     },
     "metadata": {
      "needs_background": "light"
     },
     "output_type": "display_data"
    },
    {
     "data": {
      "image/png": "[encoded data removed]",
      "text/plain": [
       "<Figure size 432x288 with 1 Axes>"
      ]
     },
     "metadata": {
      "needs_background": "light"
     },
     "output_type": "display_data"
    },
    {
     "data": {
      "image/png": "[encoded data removed]",
      "text/plain": [
       "<Figure size 432x288 with 1 Axes>"
      ]
     },
     "metadata": {
      "needs_background": "light"
     },
     "output_type": "display_data"
    },
    {
     "data": {
      "image/png": "[encoded data removed]",
      "text/plain": [
       "<Figure size 432x288 with 1 Axes>"
      ]
     },
     "metadata": {
      "needs_background": "light"
     },
     "output_type": "display_data"
    },
    {
     "data": {
      "image/png": "[encoded data removed]",
      "text/plain": [
       "<Figure size 432x288 with 1 Axes>"
      ]
     },
     "metadata": {
      "needs_background": "light"
     },
     "output_type": "display_data"
    },
    {
     "data": {
      "text/html": [
       "<style type=\"text/css\">\n",
       "#T_5e265_row0_col0, #T_5e265_row1_col1, #T_5e265_row2_col2, #T_5e265_row3_col3, #T_5e265_row4_col4, #T_5e265_row5_col5, #T_5e265_row6_col6, #T_5e265_row7_col7 {\n",
       "  background-color: #b40426;\n",
       "  color: #f1f1f1;\n",
       "}\n",
       "#T_5e265_row0_col1, #T_5e265_row1_col0, #T_5e265_row1_col6, #T_5e265_row2_col7, #T_5e265_row4_col5, #T_5e265_row5_col1, #T_5e265_row5_col2, #T_5e265_row5_col3, #T_5e265_row5_col4 {\n",
       "  background-color: #3b4cc0;\n",
       "  color: #f1f1f1;\n",
       "}\n",
       "#T_5e265_row0_col2 {\n",
       "  background-color: #cad8ef;\n",
       "  color: #000000;\n",
       "}\n",
       "#T_5e265_row0_col3, #T_5e265_row1_col5 {\n",
       "  background-color: #94b6ff;\n",
       "  color: #000000;\n",
       "}\n",
       "#T_5e265_row0_col4, #T_5e265_row3_col2 {\n",
       "  background-color: #e0dbd8;\n",
       "  color: #000000;\n",
       "}\n",
       "#T_5e265_row0_col5, #T_5e265_row3_col0, #T_5e265_row3_col5, #T_5e265_row4_col0 {\n",
       "  background-color: #aac7fd;\n",
       "  color: #000000;\n",
       "}\n",
       "#T_5e265_row0_col6 {\n",
       "  background-color: #85a8fc;\n",
       "  color: #f1f1f1;\n",
       "}\n",
       "#T_5e265_row0_col7 {\n",
       "  background-color: #7295f4;\n",
       "  color: #f1f1f1;\n",
       "}\n",
       "#T_5e265_row1_col2 {\n",
       "  background-color: #8badfd;\n",
       "  color: #000000;\n",
       "}\n",
       "#T_5e265_row1_col3, #T_5e265_row5_col0 {\n",
       "  background-color: #5470de;\n",
       "  color: #f1f1f1;\n",
       "}\n",
       "#T_5e265_row1_col4 {\n",
       "  background-color: #bad0f8;\n",
       "  color: #000000;\n",
       "}\n",
       "#T_5e265_row1_col7 {\n",
       "  background-color: #506bda;\n",
       "  color: #f1f1f1;\n",
       "}\n",
       "#T_5e265_row2_col0, #T_5e265_row4_col3 {\n",
       "  background-color: #aec9fc;\n",
       "  color: #000000;\n",
       "}\n",
       "#T_5e265_row2_col1 {\n",
       "  background-color: #6384eb;\n",
       "  color: #f1f1f1;\n",
       "}\n",
       "#T_5e265_row2_col3 {\n",
       "  background-color: #bed2f6;\n",
       "  color: #000000;\n",
       "}\n",
       "#T_5e265_row2_col4 {\n",
       "  background-color: #f7b99e;\n",
       "  color: #000000;\n",
       "}\n",
       "#T_5e265_row2_col5, #T_5e265_row3_col1 {\n",
       "  background-color: #6e90f2;\n",
       "  color: #f1f1f1;\n",
       "}\n",
       "#T_5e265_row2_col6 {\n",
       "  background-color: #5572df;\n",
       "  color: #f1f1f1;\n",
       "}\n",
       "#T_5e265_row3_col4 {\n",
       "  background-color: #ecd3c5;\n",
       "  color: #000000;\n",
       "}\n",
       "#T_5e265_row3_col6 {\n",
       "  background-color: #779af7;\n",
       "  color: #f1f1f1;\n",
       "}\n",
       "#T_5e265_row3_col7 {\n",
       "  background-color: #c3d5f4;\n",
       "  color: #000000;\n",
       "}\n",
       "#T_5e265_row4_col1 {\n",
       "  background-color: #6a8bef;\n",
       "  color: #f1f1f1;\n",
       "}\n",
       "#T_5e265_row4_col2 {\n",
       "  background-color: #f1ccb8;\n",
       "  color: #000000;\n",
       "}\n",
       "#T_5e265_row4_col6 {\n",
       "  background-color: #3d50c3;\n",
       "  color: #f1f1f1;\n",
       "}\n",
       "#T_5e265_row4_col7, #T_5e265_row6_col1 {\n",
       "  background-color: #3e51c5;\n",
       "  color: #f1f1f1;\n",
       "}\n",
       "#T_5e265_row5_col6 {\n",
       "  background-color: #97b8ff;\n",
       "  color: #000000;\n",
       "}\n",
       "#T_5e265_row5_col7 {\n",
       "  background-color: #e6d7cf;\n",
       "  color: #000000;\n",
       "}\n",
       "#T_5e265_row6_col0 {\n",
       "  background-color: #89acfd;\n",
       "  color: #000000;\n",
       "}\n",
       "#T_5e265_row6_col2 {\n",
       "  background-color: #82a6fb;\n",
       "  color: #f1f1f1;\n",
       "}\n",
       "#T_5e265_row6_col3 {\n",
       "  background-color: #6282ea;\n",
       "  color: #f1f1f1;\n",
       "}\n",
       "#T_5e265_row6_col4 {\n",
       "  background-color: #9bbcff;\n",
       "  color: #000000;\n",
       "}\n",
       "#T_5e265_row6_col5 {\n",
       "  background-color: #d8dce2;\n",
       "  color: #000000;\n",
       "}\n",
       "#T_5e265_row6_col7 {\n",
       "  background-color: #a3c2fe;\n",
       "  color: #000000;\n",
       "}\n",
       "#T_5e265_row7_col0 {\n",
       "  background-color: #7597f6;\n",
       "  color: #f1f1f1;\n",
       "}\n",
       "#T_5e265_row7_col1 {\n",
       "  background-color: #536edd;\n",
       "  color: #f1f1f1;\n",
       "}\n",
       "#T_5e265_row7_col2 {\n",
       "  background-color: #6687ed;\n",
       "  color: #f1f1f1;\n",
       "}\n",
       "#T_5e265_row7_col3 {\n",
       "  background-color: #b2ccfb;\n",
       "  color: #000000;\n",
       "}\n",
       "#T_5e265_row7_col4 {\n",
       "  background-color: #9abbff;\n",
       "  color: #000000;\n",
       "}\n",
       "#T_5e265_row7_col5 {\n",
       "  background-color: #f7b89c;\n",
       "  color: #000000;\n",
       "}\n",
       "#T_5e265_row7_col6 {\n",
       "  background-color: #a2c1ff;\n",
       "  color: #000000;\n",
       "}\n",
       "</style>\n",
       "<table id=\"T_5e265\" class=\"dataframe\">\n",
       "  <thead>\n",
       "    <tr>\n",
       "      <th class=\"blank level0\" >&nbsp;</th>\n",
       "      <th id=\"T_5e265_level0_col0\" class=\"col_heading level0 col0\" >wage</th>\n",
       "      <th id=\"T_5e265_level0_col1\" class=\"col_heading level0 col1\" >hours</th>\n",
       "      <th id=\"T_5e265_level0_col2\" class=\"col_heading level0 col2\" >IQ</th>\n",
       "      <th id=\"T_5e265_level0_col3\" class=\"col_heading level0 col3\" >KWW</th>\n",
       "      <th id=\"T_5e265_level0_col4\" class=\"col_heading level0 col4\" >educ</th>\n",
       "      <th id=\"T_5e265_level0_col5\" class=\"col_heading level0 col5\" >exper</th>\n",
       "      <th id=\"T_5e265_level0_col6\" class=\"col_heading level0 col6\" >tenure</th>\n",
       "      <th id=\"T_5e265_level0_col7\" class=\"col_heading level0 col7\" >age</th>\n",
       "    </tr>\n",
       "  </thead>\n",
       "  <tbody>\n",
       "    <tr>\n",
       "      <th id=\"T_5e265_level0_row0\" class=\"row_heading level0 row0\" >wage</th>\n",
       "      <td id=\"T_5e265_row0_col0\" class=\"data row0 col0\" >1.000000</td>\n",
       "      <td id=\"T_5e265_row0_col1\" class=\"data row0 col1\" >-0.068500</td>\n",
       "      <td id=\"T_5e265_row0_col2\" class=\"data row0 col2\" >0.300248</td>\n",
       "      <td id=\"T_5e265_row0_col3\" class=\"data row0 col3\" >0.288475</td>\n",
       "      <td id=\"T_5e265_row0_col4\" class=\"data row0 col4\" >0.289692</td>\n",
       "      <td id=\"T_5e265_row0_col5\" class=\"data row0 col5\" >0.022407</td>\n",
       "      <td id=\"T_5e265_row0_col6\" class=\"data row0 col6\" >0.187539</td>\n",
       "      <td id=\"T_5e265_row0_col7\" class=\"data row0 col7\" >0.125643</td>\n",
       "    </tr>\n",
       "    <tr>\n",
       "      <th id=\"T_5e265_level0_row1\" class=\"row_heading level0 row1\" >hours</th>\n",
       "      <td id=\"T_5e265_row1_col0\" class=\"data row1 col0\" >-0.068500</td>\n",
       "      <td id=\"T_5e265_row1_col1\" class=\"data row1 col1\" >1.000000</td>\n",
       "      <td id=\"T_5e265_row1_col2\" class=\"data row1 col2\" >0.072977</td>\n",
       "      <td id=\"T_5e265_row1_col3\" class=\"data row1 col3\" >0.103252</td>\n",
       "      <td id=\"T_5e265_row1_col4\" class=\"data row1 col4\" >0.091152</td>\n",
       "      <td id=\"T_5e265_row1_col5\" class=\"data row1 col5\" >-0.066667</td>\n",
       "      <td id=\"T_5e265_row1_col6\" class=\"data row1 col6\" >-0.051826</td>\n",
       "      <td id=\"T_5e265_row1_col7\" class=\"data row1 col7\" >0.015590</td>\n",
       "    </tr>\n",
       "    <tr>\n",
       "      <th id=\"T_5e265_level0_row2\" class=\"row_heading level0 row2\" >IQ</th>\n",
       "      <td id=\"T_5e265_row2_col0\" class=\"data row2 col0\" >0.300248</td>\n",
       "      <td id=\"T_5e265_row2_col1\" class=\"data row2 col1\" >0.072977</td>\n",
       "      <td id=\"T_5e265_row2_col2\" class=\"data row2 col2\" >1.000000</td>\n",
       "      <td id=\"T_5e265_row2_col3\" class=\"data row2 col3\" >0.404981</td>\n",
       "      <td id=\"T_5e265_row2_col4\" class=\"data row2 col4\" >0.505481</td>\n",
       "      <td id=\"T_5e265_row2_col5\" class=\"data row2 col5\" >-0.227967</td>\n",
       "      <td id=\"T_5e265_row2_col6\" class=\"data row2 col6\" >0.042238</td>\n",
       "      <td id=\"T_5e265_row2_col7\" class=\"data row2 col7\" >-0.059960</td>\n",
       "    </tr>\n",
       "    <tr>\n",
       "      <th id=\"T_5e265_level0_row3\" class=\"row_heading level0 row3\" >KWW</th>\n",
       "      <td id=\"T_5e265_row3_col0\" class=\"data row3 col0\" >0.288475</td>\n",
       "      <td id=\"T_5e265_row3_col1\" class=\"data row3 col1\" >0.103252</td>\n",
       "      <td id=\"T_5e265_row3_col2\" class=\"data row3 col2\" >0.404981</td>\n",
       "      <td id=\"T_5e265_row3_col3\" class=\"data row3 col3\" >1.000000</td>\n",
       "      <td id=\"T_5e265_row3_col4\" class=\"data row3 col4\" >0.360694</td>\n",
       "      <td id=\"T_5e265_row3_col5\" class=\"data row3 col5\" >0.022999</td>\n",
       "      <td id=\"T_5e265_row3_col6\" class=\"data row3 col6\" >0.145589</td>\n",
       "      <td id=\"T_5e265_row3_col7\" class=\"data row3 col7\" >0.373322</td>\n",
       "    </tr>\n",
       "    <tr>\n",
       "      <th id=\"T_5e265_level0_row4\" class=\"row_heading level0 row4\" >educ</th>\n",
       "      <td id=\"T_5e265_row4_col0\" class=\"data row4 col0\" >0.289692</td>\n",
       "      <td id=\"T_5e265_row4_col1\" class=\"data row4 col1\" >0.091152</td>\n",
       "      <td id=\"T_5e265_row4_col2\" class=\"data row4 col2\" >0.505481</td>\n",
       "      <td id=\"T_5e265_row4_col3\" class=\"data row4 col3\" >0.360694</td>\n",
       "      <td id=\"T_5e265_row4_col4\" class=\"data row4 col4\" >1.000000</td>\n",
       "      <td id=\"T_5e265_row4_col5\" class=\"data row4 col5\" >-0.465672</td>\n",
       "      <td id=\"T_5e265_row4_col6\" class=\"data row4 col6\" >-0.039967</td>\n",
       "      <td id=\"T_5e265_row4_col7\" class=\"data row4 col7\" >-0.045605</td>\n",
       "    </tr>\n",
       "    <tr>\n",
       "      <th id=\"T_5e265_level0_row5\" class=\"row_heading level0 row5\" >exper</th>\n",
       "      <td id=\"T_5e265_row5_col0\" class=\"data row5 col0\" >0.022407</td>\n",
       "      <td id=\"T_5e265_row5_col1\" class=\"data row5 col1\" >-0.066667</td>\n",
       "      <td id=\"T_5e265_row5_col2\" class=\"data row5 col2\" >-0.227967</td>\n",
       "      <td id=\"T_5e265_row5_col3\" class=\"data row5 col3\" >0.022999</td>\n",
       "      <td id=\"T_5e265_row5_col4\" class=\"data row5 col4\" >-0.465672</td>\n",
       "      <td id=\"T_5e265_row5_col5\" class=\"data row5 col5\" >1.000000</td>\n",
       "      <td id=\"T_5e265_row5_col6\" class=\"data row5 col6\" >0.241755</td>\n",
       "      <td id=\"T_5e265_row5_col7\" class=\"data row5 col7\" >0.509449</td>\n",
       "    </tr>\n",
       "    <tr>\n",
       "      <th id=\"T_5e265_level0_row6\" class=\"row_heading level0 row6\" >tenure</th>\n",
       "      <td id=\"T_5e265_row6_col0\" class=\"data row6 col0\" >0.187539</td>\n",
       "      <td id=\"T_5e265_row6_col1\" class=\"data row6 col1\" >-0.051826</td>\n",
       "      <td id=\"T_5e265_row6_col2\" class=\"data row6 col2\" >0.042238</td>\n",
       "      <td id=\"T_5e265_row6_col3\" class=\"data row6 col3\" >0.145589</td>\n",
       "      <td id=\"T_5e265_row6_col4\" class=\"data row6 col4\" >-0.039967</td>\n",
       "      <td id=\"T_5e265_row6_col5\" class=\"data row6 col5\" >0.241755</td>\n",
       "      <td id=\"T_5e265_row6_col6\" class=\"data row6 col6\" >1.000000</td>\n",
       "      <td id=\"T_5e265_row6_col7\" class=\"data row6 col7\" >0.274386</td>\n",
       "    </tr>\n",
       "    <tr>\n",
       "      <th id=\"T_5e265_level0_row7\" class=\"row_heading level0 row7\" >age</th>\n",
       "      <td id=\"T_5e265_row7_col0\" class=\"data row7 col0\" >0.125643</td>\n",
       "      <td id=\"T_5e265_row7_col1\" class=\"data row7 col1\" >0.015590</td>\n",
       "      <td id=\"T_5e265_row7_col2\" class=\"data row7 col2\" >-0.059960</td>\n",
       "      <td id=\"T_5e265_row7_col3\" class=\"data row7 col3\" >0.373322</td>\n",
       "      <td id=\"T_5e265_row7_col4\" class=\"data row7 col4\" >-0.045605</td>\n",
       "      <td id=\"T_5e265_row7_col5\" class=\"data row7 col5\" >0.509449</td>\n",
       "      <td id=\"T_5e265_row7_col6\" class=\"data row7 col6\" >0.274386</td>\n",
       "      <td id=\"T_5e265_row7_col7\" class=\"data row7 col7\" >1.000000</td>\n",
       "    </tr>\n",
       "  </tbody>\n",
       "</table>\n"
      ],
      "text/plain": [
       "<pandas.io.formats.style.Styler at 0x7f1639afb1c0>"
      ]
     },
     "execution_count": 78,
     "metadata": {},
     "output_type": "execute_result"
    }
   ],
   "source": [
    "wage = cleaned[\"wage\"]  # update 'wage'\n",
    "keys = [\"hours\", \"IQ\", \"KWW\", \"educ\", \"exper\", \"tenure\", \"age\"]\n",
    "\n",
    "for key in keys:\n",
    "    comparison_data = cleaned[key]\n",
    "    plt.scatter(comparison_data, wage)\n",
    "    plt.ylabel(\"Wage\")\n",
    "    plt.xlabel(key)\n",
    "    plt.title(f\"Wage-{key} relation\")\n",
    "    plt.show()\n",
    "\n",
    "keys.insert(0, \"wage\")\n",
    "corr_coeff = cleaned[keys].corr()\n",
    "corr_coeff.style.background_gradient(cmap='coolwarm')\n"
   ]
  },
  {
   "cell_type": "markdown",
   "metadata": {
    "id": "a1R2cCdmrOTj"
   },
   "source": [
    "We get a very convenient symmetric correlation matrix, where we can see the correlation between the model independent and dependent variables. The closer the absolute value of coefficient to the 1, the stronger is the correlation between the values.\n",
    "\n",
    "Correlation doesn't necessarily imply the causation, however it is the great tool to estimate the extent to which two values fluctuate in relation to each other. For example, we can consider the correlation between the education and the wage. We can see that comparing with the other variables education by way more related, than, for instance, wage and hours.\n",
    "\n",
    "Probably, we can also use correlation of dependent variables to estimate whether the values are jointly significant. In other words, we can assume, that the higher is the correlation between two independent variables, the more likely they are to be jointly significant. But, honestly speaking, cannot state this for sure"
   ]
  },
  {
   "cell_type": "markdown",
   "metadata": {
    "id": "FVq7HH2Pwa5h"
   },
   "source": [
    "# Task 2"
   ]
  },
  {
   "cell_type": "markdown",
   "metadata": {
    "id": "skhydEOByPBF"
   },
   "source": [
    "## Task 2.a\n",
    "### Problem Setting\n",
    "Construct linear regression model for wage taking other variables as independent variables.\n",
    "\n",
    "### Solution\n",
    "We will use the statsmodels.formula.api in oreder to perform OLS and, thus, construct linear regression model.\n",
    "\n",
    "Our model will look like:\n",
    "$$\n",
    "\\text{wage} = β_0 + β_1\\text{hours + } β_2\\text{IQ + }β_3\\text{KWW + }β_4\\text{educ + }β_5\\text{exper + }β_6\\text{tenure + }β_7\\text{age + }\n",
    "β_8\\text{married + }\\\\\n",
    "β_9\\text{black + }β_{10}\\text{south + }β_{11}\\text{urban + }β_{12}\\text{sibs + }β_{13}\\text{brthord + }β_{14}\\text{meduc + }β_{15}\\text{feduc} \\\\\n",
    "$$\n",
    "\n",
    "***Note!***\n",
    "\n",
    "We did not include the lwage (logarithmed wage) into the model by default, because logarithm is the function of the wage and doing so will produce perfect collinearity, which will spoil our model and make it hard to exclude lwage from the model."
   ]
  },
  {
   "cell_type": "code",
   "execution_count": 79,
   "metadata": {
    "colab": {
     "base_uri": "https://localhost:8080/"
    },
    "id": "oqzYmzNjyyOY",
    "outputId": "8e3e6d34-ef1e-4dc9-eebc-00a34b80eefc"
   },
   "outputs": [
    {
     "name": "stdout",
     "output_type": "stream",
     "text": [
      "                            OLS Regression Results                            \n",
      "==============================================================================\n",
      "Dep. Variable:                   wage   R-squared:                       0.271\n",
      "Model:                            OLS   Adj. R-squared:                  0.259\n",
      "Method:                 Least Squares   F-statistic:                     22.06\n",
      "Date:                Mon, 27 Mar 2023   Prob (F-statistic):           1.56e-51\n",
      "Time:                        19:58:39   Log-Likelihood:                -6409.6\n",
      "No. Observations:                 906   AIC:                         1.285e+04\n",
      "Df Residuals:                     890   BIC:                         1.293e+04\n",
      "Df Model:                          15                                         \n",
      "Covariance Type:            nonrobust                                         \n",
      "==============================================================================\n",
      "                 coef    std err          t      P>|t|      [0.025      0.975]\n",
      "------------------------------------------------------------------------------\n",
      "Intercept   -180.2349    158.313     -1.138      0.255    -490.946     130.476\n",
      "hours         -5.4339      1.360     -3.995      0.000      -8.104      -2.764\n",
      "IQ             2.4026      0.835      2.878      0.004       0.764       4.041\n",
      "KWW            3.1423      1.640      1.916      0.056      -0.077       6.362\n",
      "educ          35.0941      6.148      5.708      0.000      23.027      47.161\n",
      "exper          9.6925      2.998      3.233      0.001       3.808      15.577\n",
      "tenure         8.7309      2.001      4.364      0.000       4.804      12.658\n",
      "age            0.7012      4.095      0.171      0.864      -7.337       8.739\n",
      "married      141.3246     31.227      4.526      0.000      80.037     202.612\n",
      "black       -100.5123     32.857     -3.059      0.002    -164.999     -36.026\n",
      "south        -49.0409     21.417     -2.290      0.022     -91.075      -7.006\n",
      "urban        156.1761     21.767      7.175      0.000     113.455     198.897\n",
      "sibs           5.5143      5.419      1.018      0.309      -5.122      16.150\n",
      "brthord       -8.9696      7.545     -1.189      0.235     -23.777       5.838\n",
      "meduc          7.1869      4.184      1.718      0.086      -1.024      15.398\n",
      "feduc          3.3324      3.648      0.914      0.361      -3.827      10.492\n",
      "==============================================================================\n",
      "Omnibus:                       29.372   Durbin-Watson:                   1.808\n",
      "Prob(Omnibus):                  0.000   Jarque-Bera (JB):               31.383\n",
      "Skew:                           0.441   Prob(JB):                     1.53e-07\n",
      "Kurtosis:                       3.233   Cond. No.                     2.04e+03\n",
      "==============================================================================\n",
      "\n",
      "Notes:\n",
      "[1] Standard Errors assume that the covariance matrix of the errors is correctly specified.\n",
      "[2] The condition number is large, 2.04e+03. This might indicate that there are\n",
      "strong multicollinearity or other numerical problems.\n"
     ]
    }
   ],
   "source": [
    "model_all = smf.ols(\n",
    "  formula=\"wage ~ hours + IQ + KWW + educ + exper + tenure + age + married + black + south + urban + sibs + brthord + meduc + feduc\",\n",
    "  data=cleaned\n",
    ").fit()\n",
    "\n",
    "print(model_all.summary())"
   ]
  },
  {
   "cell_type": "markdown",
   "metadata": {
    "id": "vTi18LIFzBZV"
   },
   "source": [
    "## Task 2.b\n",
    "### Problem Setting\n",
    "For independent variable educ write down the corresponding hypothesis of the t-test. Interpret in your own words what this hypothesis means.\n",
    "\n",
    "### Solution\n",
    "Let's formulate hypothesis for the education slope parameter $β_4$\n",
    "\n",
    "$$\n",
    "H_0:\\beta_4=0 \\\\\n",
    "H_1:\\beta_4\\ne0\n",
    "$$\n",
    "\n",
    "Basically, we want to estimate whether the independent variable \"education\" is statistically significant in our linear model.\n",
    "\n",
    "Since it is not asked in the task to test this hypothesis, we won't perform the corresponding t-test, however one can look-up p-value for this test in the resulting summary table from the task 2.a."
   ]
  },
  {
   "cell_type": "markdown",
   "metadata": {
    "id": "m6uwzxpB2yNa"
   },
   "source": [
    "## Task 2.c\n",
    "### Problem Setting\n",
    "Construct the test for the sign of coefficients for some of independent variable. State your intuitive expectation. Formulate the hypotheses. Test them. Interpret the result.\n",
    "\n",
    "### Solution\n",
    "We could have chosen separate dependent variables and construct the sign t-test for them, but at the end of the day, we can simply write the fuction that will perform the test for the whole set of variables.\n",
    "\n",
    "First of all, let's discuss the theory behind the t-test, the notions that we will use to built t-test procedure. We will certainly use the t-statistic, the formula for which is\n",
    "\n",
    "$$\n",
    "\\text{t-statistic} = \\frac{β_i}{\\text{se}_i}\\text{, where} \\\\\n",
    "β_i\\text{ - slope parameter for }x_i \\\\\n",
    "\\text{se}_i \\text{ - standard error for }x_i \\\\\n",
    "$$\n",
    "\n",
    "For testing whether slope parameter has positive sign, we construct the following hypothesis:\n",
    "\n",
    "$$\n",
    "H_0: β = 0 \\\\\n",
    "H_1: β > 0 \\\\\n",
    "$$\n",
    "\n",
    "Then we calculate the p-value using following notions:\n",
    "\n",
    "$$\n",
    "\\text{p-value}=1-F(\\text{t-statistic, degrees of freedom})\\text{, where} \\\\\n",
    "F(\\text{t-statistic, degrees of freedom}) \\text{ - c.d.f. of t-distribution} \\\\\n",
    "$$\n",
    "\n",
    "Similar procedure for slope parameter negative sign test:\n",
    "\n",
    "$$\n",
    "H_0: β = 0 \\\\\n",
    "H_1: β < 0 \\\\\n",
    "\\text{p-value}=F(\\text{t-statistic, degrees of freedom})\\\\\n",
    "$$\n",
    "\n",
    "\n",
    "Armed with necessary statistics theory, let's construct the function:"
   ]
  },
  {
   "cell_type": "code",
   "execution_count": 80,
   "metadata": {
    "colab": {
     "base_uri": "https://localhost:8080/"
    },
    "id": "XhRDAPmw32dL",
    "outputId": "f239fe0d-fdb0-4a20-96a7-90e8be5de946"
   },
   "outputs": [
    {
     "name": "stdout",
     "output_type": "stream",
     "text": [
      "Intercept    0.872384\n",
      "hours        0.999965\n",
      "IQ           0.002051\n",
      "KWW          0.027869\n",
      "educ         0.000000\n",
      "exper        0.000636\n",
      "tenure       0.000007\n",
      "age          0.432047\n",
      "married      0.000003\n",
      "black        0.998857\n",
      "south        0.988866\n",
      "urban        0.000000\n",
      "sibs         0.154588\n",
      "brthord      0.882589\n",
      "meduc        0.043093\n",
      "feduc        0.180613\n",
      "Name: p-value (H0: β = 0; H1: β > 0), dtype: float64 \n",
      "\n",
      "Intercept    0.127616\n",
      "hours        0.000035\n",
      "IQ           0.997949\n",
      "KWW          0.972131\n",
      "educ         1.000000\n",
      "exper        0.999364\n",
      "tenure       0.999993\n",
      "age          0.567953\n",
      "married      0.999997\n",
      "black        0.001143\n",
      "south        0.011134\n",
      "urban        1.000000\n",
      "sibs         0.845412\n",
      "brthord      0.117411\n",
      "meduc        0.956907\n",
      "feduc        0.819387\n",
      "Name: p-value (H0: β = 0; H1: β < 0), dtype: float64\n"
     ]
    }
   ],
   "source": [
    "def t_test(model, alter_hypoth):\n",
    "  coefficients = model.params\n",
    "  standard_errors = model.bse\n",
    "\n",
    "  t_statistics = coefficients / standard_errors\n",
    "  df = model.df_resid - 1\n",
    "  p_values = None\n",
    "\n",
    "  if alter_hypoth == \"β > 0\":\n",
    "    p_values = t_statistics.apply(lambda x : round(1 - t_dist.cdf(x, df), 6))\n",
    "    p_values.name = \"p-value (H0: β = 0; H1: β > 0)\"\n",
    "  \n",
    "  elif alter_hypoth == \"β < 0\":\n",
    "    p_values = t_statistics.apply(lambda x: round(t_dist.cdf(x, df), 6))\n",
    "    p_values.name = \"p-value (H0: β = 0; H1: β < 0)\"\n",
    "\n",
    "  return p_values\n",
    "\n",
    "p_values = t_test(model_all, \"β > 0\")\n",
    "print(p_values, \"\\n\")\n",
    "p_values = t_test(model_all, \"β < 0\")\n",
    "print(p_values)"
   ]
  },
  {
   "cell_type": "markdown",
   "metadata": {
    "id": "uW3pPt-c5HjT"
   },
   "source": [
    "Now that we have a very convenient tool for testing signs of linear model parameters, we can comment on the p-value of each parameter.\n",
    "\n",
    "During the analysis, if $\\text{p-value}<0.05$ then we reject $H_0$, which in our case, with test performed above, means that sign of $β_i$ is positive\n",
    "\n",
    "\n",
    "* intercept - obviously positive because wages cannot be negative.\n",
    "* hours - tend to be counter-intuitive to influnce the wage negatively. But after thinking about it: it's not hours of work that determine your wage, but rather the workplace. Furthermore, poor people tend to search for a couple of jobs to earn more.\n",
    "* IQ - seems that IQ positively influence wage, but myself thought that it doesn't really.\n",
    "* KWW - quite expected, because the higher knowledge of world work score is, the more you know about the possible job opportunities.\n",
    "* educ - also obvious that education contributes positively to the wages of the person, because educated person has more hard- and soft- skills to meet the high-paid job requirements.\n",
    "* exper - same intuition as with educ example.\n",
    "* tenure - first thought that tenure wouldn't positively influnce the wages, because you can always change the workplace for a better paying job. But then, if thought about more, the more years you are with the one employer, the more stable you career grow is and possibly the higher occupation in the copmany you have.\n",
    "* age - obviously age doesn't matter if talking about the wage of person\n",
    "* married - it is not necessarily that marrige possibly influence the wage, it is more correct to state that people tend to marry, when they have a wage, which would be enough to sustain the family.\n",
    "* black - the reason that the black color of skin negatively influence the wage may be the discrimination and prejudice towards the people with black skin-color.\n",
    "* south - probably the reason living in the south of USA influences the wage is that historically, the north of USA was more technologically developed, that's why there were a better paying jobs\n",
    "* urban - job proposals in city tend to bring more wage\n",
    "* sibs, brthord, meduc, feduc - should be tested for joint significance, because it seems that they all (except mother education) are statistically insignificant (both alternative hypotheses \\$H1: β_i > 0\\$ and \\$H1: β_i < 0\\$ fail)"
   ]
  },
  {
   "cell_type": "markdown",
   "metadata": {
    "id": "MQOlsFLrTU3-"
   },
   "source": [
    "## Task 2.d\n",
    "\n",
    "### Problem Setting\n",
    "Interpret the coefficient of variable married. Explain why we do not include into the model variable unmarried (=1 if is not married).\n",
    "\n",
    "### Solution\n",
    "Coefficient near the variable married $β_8\\approx141$. If the person is married, the expected increasement in wage is by $141, under ceteris paribus (holding all other factors fixed). In our case being married is associated with a higher wage.\n",
    "\n",
    "We don't include the \"unmarried\" variable into the model, because it will produce perfect collinearity and violate the third classical linear model assumption"
   ]
  },
  {
   "cell_type": "markdown",
   "metadata": {
    "id": "lW2HZI7LXDn1"
   },
   "source": [
    "## Task 2.e\n",
    "\n",
    "### Problem Setting\n",
    "Test variables sibs, brthord, meduc, feduc for joint significance. What test to use?\n",
    "\n",
    "### Solution\n",
    "We need to use the F-test in order to test for the group significance. For now we are asked to test the hypothesis that:\n",
    "\n",
    "$$\n",
    "H_0:β_{12}=β_{13}=β_{14}=β_{15}=0 \\\\\n",
    "H_1:β_i\\ne0\\text{, where } i \\in \\{12, ..., 15\\} \\\\\n",
    "β_{12}\\text{ - sibs slope parameter} \\\\\n",
    "β_{13}\\text{ - brthord slope parameter} \\\\\n",
    "β_{14}\\text{ - meduc slope parameter} \\\\\n",
    "β_{15}\\text{ - feduc slope parameter} \\\\\n",
    "$$\n",
    "\n",
    "Our null hypothesis is that coefficients sibs, brthord, meduc and feduc are all equal to zero, therefore, are jointly insignificant for our model, while the alternative hypothesis states that at least one of our variables is not equal to zero, thus, making those four parameters jointly significant for linear model.\n",
    "\n",
    "Our f-test is performed the following way. First we search for the f-statistic in our sample, which is equal to the following:\n",
    "\n",
    "$$\n",
    "\\text{f-statistic} = \\frac{(\\text{SSR}_\\text{ur} - \\text{SSR}_\\text{r})/q}{\\text{SSR}_\\text{ur}/(n-k-1)}\\text{, where} \\\\\n",
    "\\text{SSR}_\\text{r} \\text{ - the sum of squared residuals from the restricted model} \\\\\n",
    "\\text{SSR}_\\text{ur} \\text{ - the sum of squared residuals from the unrestricted model} \\\\\n",
    "q \\text{ - degrees of freedom of restricted model minus degrees of freedom of unrestricted model} \\\\\n",
    "n \\text{ - sample size} \\\\\n",
    "k \\text{ - number of features} \\\\\n",
    "$$\n",
    "\n",
    "Afterwards, we can obtain the p-value for our test:\n",
    "\n",
    "$$\n",
    "\\text{p-value}=1 - F(\\text{f-statistic}, q, \\text{df}_\\text{ur})\\text{, where} \\\\\n",
    "F \\text{ - is the c.d.f. of f-distribution with calculated f-statistic,}\\\\ \n",
    "\\text{degrees of freedom minus degrees of freedom of unrestricted model,} \\\\ \n",
    "\\text{degrees of freedom of unrestricted model}\n",
    "$$"
   ]
  },
  {
   "cell_type": "code",
   "execution_count": 81,
   "metadata": {
    "colab": {
     "base_uri": "https://localhost:8080/"
    },
    "id": "ZKxmZnHBYHrT",
    "outputId": "487999d8-5073-4d39-d7e5-45bc2e6a01e8"
   },
   "outputs": [
    {
     "data": {
      "text/plain": [
       "<class 'statsmodels.stats.contrast.ContrastResults'>\n",
       "<F test: F=1.9988794543315187, p=0.09272970341037642, df_denom=890, df_num=4>"
      ]
     },
     "execution_count": 81,
     "metadata": {},
     "output_type": "execute_result"
    }
   ],
   "source": [
    "hypotheses = \"(sibs = 0), (brthord = 0), (meduc = 0), (feduc = 0)\"\n",
    "f_test = model_all.f_test(hypotheses)\n",
    "\n",
    "f_test"
   ]
  },
  {
   "cell_type": "markdown",
   "metadata": {
    "id": "zEAecNKDb2vu"
   },
   "source": [
    "The resulting p-value is bigger, then 0.05, that's why we cannot reject the null hypothesis that variables sibs, brthord, meduc and feduc are insignificant for the model "
   ]
  },
  {
   "cell_type": "markdown",
   "metadata": {
    "id": "qgkCeIoHOvLI"
   },
   "source": [
    "## Task 2.f\n",
    "### Problem Setting\n",
    "Select variables for the model. Explain how to do this.\n",
    "\n",
    "### Solution\n",
    "We will be selecting the variables for the model by removing one-by-one the one's with the largest p-value that is bigger than 0.05, till our adjusted $R^2$ will stop growing.\n",
    "\n",
    "First of all, we will begin removing our varaibles from the age, since it has the largest p-value, which is bigger than 0.05 which can be seen in the table in task 2.a and which proves our previous intuition that age shouldn't influence the wage. So the model we get after removing the age will be as follows:\n",
    "\n",
    "$$\n",
    "\\text{wage} = β_0 + β_1\\text{hours + } β_2\\text{IQ + }β_3\\text{KWW + }β_4\\text{educ + }β_5\\text{exper + }β_6\\text{tenure + }\n",
    "β_7\\text{married + }\\\\\n",
    "β_8\\text{black + }β_{9}\\text{south + }β_{10}\\text{urban + }β_{11}\\text{sibs + }β_{12}\\text{brthord + }β_{13}\\text{meduc + }β_{14}\\text{feduc} \\\\\n",
    "$$"
   ]
  },
  {
   "cell_type": "code",
   "execution_count": 82,
   "metadata": {
    "colab": {
     "base_uri": "https://localhost:8080/"
    },
    "id": "wXUdPUNyeJUG",
    "outputId": "a56777a5-4373-4af0-bb8c-8ad9d1c3f616"
   },
   "outputs": [
    {
     "name": "stdout",
     "output_type": "stream",
     "text": [
      "                            OLS Regression Results                            \n",
      "==============================================================================\n",
      "Dep. Variable:                   wage   R-squared:                       0.271\n",
      "Model:                            OLS   Adj. R-squared:                  0.260\n",
      "Method:                 Least Squares   F-statistic:                     23.66\n",
      "Date:                Mon, 27 Mar 2023   Prob (F-statistic):           3.18e-52\n",
      "Time:                        19:58:39   Log-Likelihood:                -6409.6\n",
      "No. Observations:                 906   AIC:                         1.285e+04\n",
      "Df Residuals:                     891   BIC:                         1.292e+04\n",
      "Df Model:                          14                                         \n",
      "Covariance Type:            nonrobust                                         \n",
      "==============================================================================\n",
      "                 coef    std err          t      P>|t|      [0.025      0.975]\n",
      "------------------------------------------------------------------------------\n",
      "Intercept   -163.8617    126.098     -1.299      0.194    -411.346      83.622\n",
      "hours         -5.4282      1.359     -3.994      0.000      -8.096      -2.761\n",
      "IQ             2.3789      0.823      2.891      0.004       0.764       3.994\n",
      "KWW            3.2479      1.519      2.138      0.033       0.266       6.229\n",
      "educ          35.2563      6.072      5.807      0.000      23.340      47.173\n",
      "exper          9.9411      2.622      3.791      0.000       4.795      15.087\n",
      "tenure         8.7785      1.980      4.433      0.000       4.892      12.665\n",
      "married      141.4482     31.202      4.533      0.000      80.210     202.686\n",
      "black       -100.3968     32.832     -3.058      0.002    -164.834     -35.959\n",
      "south        -49.1388     21.398     -2.296      0.022     -91.135      -7.142\n",
      "urban        156.0649     21.746      7.177      0.000     113.386     198.743\n",
      "sibs           5.5216      5.416      1.019      0.308      -5.108      16.152\n",
      "brthord       -8.9567      7.540     -1.188      0.235     -23.756       5.842\n",
      "meduc          7.1707      4.180      1.715      0.087      -1.034      15.375\n",
      "feduc          3.3210      3.645      0.911      0.363      -3.833      10.476\n",
      "==============================================================================\n",
      "Omnibus:                       29.267   Durbin-Watson:                   1.808\n",
      "Prob(Omnibus):                  0.000   Jarque-Bera (JB):               31.260\n",
      "Skew:                           0.440   Prob(JB):                     1.63e-07\n",
      "Kurtosis:                       3.232   Cond. No.                     1.57e+03\n",
      "==============================================================================\n",
      "\n",
      "Notes:\n",
      "[1] Standard Errors assume that the covariance matrix of the errors is correctly specified.\n",
      "[2] The condition number is large, 1.57e+03. This might indicate that there are\n",
      "strong multicollinearity or other numerical problems.\n"
     ]
    }
   ],
   "source": [
    "model = smf.ols(formula=\"wage ~ hours + IQ + KWW + educ + exper + tenure + married + black + south + urban + sibs + brthord + meduc + feduc\",\n",
    "    data=cleaned\n",
    ").fit()\n",
    "\n",
    "print(model.summary())"
   ]
  },
  {
   "cell_type": "markdown",
   "metadata": {
    "id": "Fgfog5K3gP6l"
   },
   "source": [
    "After removing one-by-one all the independent variables from the model, taking the ones with the biggest p-value and checking whether $\\text{p-value} > 0.05$, we get the following model:\n",
    "\n",
    "$$\n",
    "\\text{wage} = β_0 + β_1\\text{hours + } β_2\\text{IQ + }β_3\\text{KWW + }β_4\\text{educ + }β_5\\text{exper + }β_6\\text{tenure + }\\\\\n",
    "β_7\\text{married + }β_8\\text{black + }β_{9}\\text{south + }β_{10}\\text{urban + }β_{11}\\text{meduc} \\\\\n",
    "$$"
   ]
  },
  {
   "cell_type": "code",
   "execution_count": 83,
   "metadata": {
    "colab": {
     "base_uri": "https://localhost:8080/"
    },
    "id": "SnCtQtRriLRM",
    "outputId": "2cadb21f-f4d6-47b9-9c12-2af6e5f4a17b"
   },
   "outputs": [
    {
     "name": "stdout",
     "output_type": "stream",
     "text": [
      "                            OLS Regression Results                            \n",
      "==============================================================================\n",
      "Dep. Variable:                   wage   R-squared:                       0.269\n",
      "Model:                            OLS   Adj. R-squared:                  0.260\n",
      "Method:                 Least Squares   F-statistic:                     29.91\n",
      "Date:                Mon, 27 Mar 2023   Prob (F-statistic):           6.78e-54\n",
      "Time:                        19:58:39   Log-Likelihood:                -6410.9\n",
      "No. Observations:                 906   AIC:                         1.285e+04\n",
      "Df Residuals:                     894   BIC:                         1.290e+04\n",
      "Df Model:                          11                                         \n",
      "Covariance Type:            nonrobust                                         \n",
      "==============================================================================\n",
      "                 coef    std err          t      P>|t|      [0.025      0.975]\n",
      "------------------------------------------------------------------------------\n",
      "Intercept   -159.9601    119.610     -1.337      0.181    -394.708      74.788\n",
      "hours         -5.3769      1.358     -3.959      0.000      -8.043      -2.711\n",
      "IQ             2.3659      0.821      2.883      0.004       0.755       3.977\n",
      "KWW            3.1013      1.506      2.059      0.040       0.146       6.057\n",
      "educ          36.1609      5.998      6.029      0.000      24.390      47.932\n",
      "exper          9.7485      2.618      3.724      0.000       4.611      14.886\n",
      "tenure         8.7690      1.979      4.430      0.000       4.884      12.654\n",
      "married      143.5262     31.165      4.605      0.000      82.362     204.690\n",
      "black        -94.0620     31.978     -2.941      0.003    -156.823     -31.301\n",
      "south        -52.9172     21.253     -2.490      0.013     -94.629     -11.205\n",
      "urban        156.7579     21.662      7.237      0.000     114.244     199.272\n",
      "meduc          8.8769      3.783      2.346      0.019       1.451      16.302\n",
      "==============================================================================\n",
      "Omnibus:                       30.069   Durbin-Watson:                   1.809\n",
      "Prob(Omnibus):                  0.000   Jarque-Bera (JB):               32.218\n",
      "Skew:                           0.444   Prob(JB):                     1.01e-07\n",
      "Kurtosis:                       3.252   Cond. No.                     1.49e+03\n",
      "==============================================================================\n",
      "\n",
      "Notes:\n",
      "[1] Standard Errors assume that the covariance matrix of the errors is correctly specified.\n",
      "[2] The condition number is large, 1.49e+03. This might indicate that there are\n",
      "strong multicollinearity or other numerical problems.\n"
     ]
    }
   ],
   "source": [
    "model = smf.ols(formula=\"wage ~ hours + IQ + KWW + educ + exper + tenure + married + black + south + urban + meduc\",\n",
    "    data=cleaned\n",
    ").fit()\n",
    "\n",
    "print(model.summary())"
   ]
  },
  {
   "cell_type": "markdown",
   "metadata": {
    "id": "_BYHGPx2ihUw"
   },
   "source": [
    "Since p-value of other variables are less than the 0.05 we will stop excluding another variables from the model, because it won't improve its accuracy.\n",
    "\n",
    "Now let's interpret the model that we got:\n",
    "\n",
    "1. $β_0$ is the intercept of our linear regression model\n",
    "2. Since our model is level-level, each coefficient $β_i : i \\in \\{1, ..., 10\\}$ singnifies the increase in the average wage by $β_i$ with the increase of the correspondent variable by one unit, holding others factors fixed (ceteris paribus)\n",
    "$$\n",
    "Δy = β_iΔx\n",
    "$$\n",
    "3. Our model is built in the way that the p-value for each $\\beta_i$ slope coefficient is less than 0.05, which assumes that there is a strong relation between the independent variables $x_i$ and the dependent variable $y\\text{ (wage)}$\n",
    "4. Our adjusted $R^2$ is equal to $0.26$. Therefore it means that our model covers $~26\\%$ of the variance in the dependent variable"
   ]
  },
  {
   "cell_type": "markdown",
   "metadata": {
    "id": "hEwWe_rSjjSa"
   },
   "source": [
    "## Task 2.g\n",
    "\n",
    "### Problem setting\n",
    "Run final model. Present the output. Explain what all the obtained values mean. Interpret the results.\n",
    "\n",
    "### Solution\n",
    "Ok, so now, let's run the model for the arbitrary values of independent variables.\n",
    "\n",
    "Let's have the following values:\n",
    "* $hours = 40$ working hours per week\n",
    "* $IQ = 120$ score\n",
    "* $KWW = 35$\n",
    "* $educ = 12$ years of education\n",
    "* $exper = 8$ years of experience\n",
    "* $tenure = 5$ years with current employer\n",
    "* $married = 1$ person is not married\n",
    "* $black = 0$ person doesn't have a black skin colour\n",
    "* $south = 0$ person is not from south\n",
    "* $urban = 1$ person is living and working in the urban area\n",
    "\n",
    "Ok, let's run the regression:"
   ]
  },
  {
   "cell_type": "code",
   "execution_count": 84,
   "metadata": {
    "colab": {
     "base_uri": "https://localhost:8080/"
    },
    "id": "6Zw7tyXllJbp",
    "outputId": "303f92dc-0d36-49ce-ec18-69dce22e944b"
   },
   "outputs": [
    {
     "data": {
      "text/plain": [
       "0    979.987284\n",
       "dtype: float64"
      ]
     },
     "execution_count": 84,
     "metadata": {},
     "output_type": "execute_result"
    }
   ],
   "source": [
    "input = pd.DataFrame.from_dict([{'hours': 40, 'IQ': 120, 'KWW': 35, 'educ': 12,\n",
    "              'exper': 8, 'tenure': 5, 'married': 1,\n",
    "              'black': 0, 'south': 0, 'urban': 1, 'meduc':12}])\n",
    "\n",
    "predicted_wage = model.predict(input)\n",
    "predicted_wage"
   ]
  },
  {
   "cell_type": "markdown",
   "metadata": {
    "id": "AGq4MzC2tSOU"
   },
   "source": [
    "Now let's interpret the results. Our model predicts that, given the values of corresponding variables stated above, the wage of person will be $\\$970$ on average, holding other factors fixed (ceteris paribus)\n",
    "\n",
    "We can also test the model accuracy for the certain row of our data"
   ]
  },
  {
   "cell_type": "code",
   "execution_count": 85,
   "metadata": {
    "colab": {
     "base_uri": "https://localhost:8080/"
    },
    "id": "4WR_C2Hl5ZUz",
    "outputId": "7bd80d57-8b04-4ec4-e7a3-b44c369796e9"
   },
   "outputs": [
    {
     "name": "stdout",
     "output_type": "stream",
     "text": [
      "Actual wage: 1299.0\n",
      "7.1693500166706\n",
      "Predicted wage: 992.0\n",
      "Difference: 307.0\n"
     ]
    }
   ],
   "source": [
    "row_num = 100\n",
    "row = cleaned.loc[row_num]\n",
    "input = row[['hours', 'IQ', 'KWW', 'educ', 'exper', 'tenure', 'married', 'black', 'south', 'urban', 'meduc']]\n",
    "actual_wage = row['wage']\n",
    "predicted_wage = model.predict(input)\n",
    "\n",
    "print(\"Actual wage:\", actual_wage)\n",
    "print(np.log(actual_wage))\n",
    "print(\"Predicted wage:\", round(predicted_wage[row_num], 1))\n",
    "print(\"Difference:\", round((actual_wage - predicted_wage)[row_num], 1))"
   ]
  },
  {
   "cell_type": "markdown",
   "metadata": {
    "id": "qSo_EvMn80q-"
   },
   "source": [
    "Generally speaking, if the value we return is positive - we underpredict, otherwise - we overpredict"
   ]
  },
  {
   "cell_type": "markdown",
   "metadata": {
    "id": "tdQd-hW89oI9"
   },
   "source": [
    "# Task 3"
   ]
  },
  {
   "cell_type": "markdown",
   "metadata": {
    "id": "GS--8pPs94XC"
   },
   "source": [
    "## Task 3.a\n",
    "\n",
    "### Problem Setting\n",
    "Construct log-linear model for lwage taking other variables as independent variables\n",
    "\n",
    "### Solution\n",
    "Constructing the log-linear (log-level) model is not that much complicated. Instead this time, note, that we won't exclude outliers from our model, because, recall from the task 1.d, that our data was already symmetrical due to the logarithming. That's why we include outliers into our model.\n",
    "\n",
    "The general view of our model will be as following:\n",
    "\n",
    "$$\n",
    "\\text{log(wage)} = β_0 + β_1\\text{hours + } β_2\\text{IQ + }β_3\\text{KWW + }β_4\\text{educ + }β_5\\text{exper + }β_6\\text{tenure + }β_7\\text{age + }\n",
    "β_8\\text{married + }\\\\\n",
    "β_9\\text{black + }β_{10}\\text{south + }β_{11}\\text{urban + }β_{12}\\text{sibs + }β_{13}\\text{brthord + }β_{14}\\text{meduc + }β_{15}\\text{feduc} \\\\\n",
    "$$"
   ]
  },
  {
   "cell_type": "code",
   "execution_count": 85,
   "metadata": {
    "id": "LyJpZgosSxIq"
   },
   "outputs": [],
   "source": []
  },
  {
   "cell_type": "code",
   "execution_count": 86,
   "metadata": {
    "colab": {
     "base_uri": "https://localhost:8080/"
    },
    "id": "y-78wmDg_k80",
    "outputId": "d0a503a0-fc1a-4670-b9ac-f91255076486"
   },
   "outputs": [
    {
     "name": "stdout",
     "output_type": "stream",
     "text": [
      "                            OLS Regression Results                            \n",
      "==============================================================================\n",
      "Dep. Variable:                  lwage   R-squared:                       0.283\n",
      "Model:                            OLS   Adj. R-squared:                  0.271\n",
      "Method:                 Least Squares   F-statistic:                     24.14\n",
      "Date:                Mon, 27 Mar 2023   Prob (F-statistic):           1.61e-56\n",
      "Time:                        19:58:39   Log-Likelihood:                -362.32\n",
      "No. Observations:                 935   AIC:                             756.6\n",
      "Df Residuals:                     919   BIC:                             834.1\n",
      "Df Model:                          15                                         \n",
      "Covariance Type:            nonrobust                                         \n",
      "==============================================================================\n",
      "                 coef    std err          t      P>|t|      [0.025      0.975]\n",
      "------------------------------------------------------------------------------\n",
      "Intercept      5.2233      0.192     27.175      0.000       4.846       5.601\n",
      "hours         -0.0058      0.002     -3.513      0.000      -0.009      -0.003\n",
      "IQ             0.0031      0.001      2.996      0.003       0.001       0.005\n",
      "KWW            0.0032      0.002      1.596      0.111      -0.001       0.007\n",
      "educ           0.0443      0.008      5.884      0.000       0.030       0.059\n",
      "exper          0.0108      0.004      2.948      0.003       0.004       0.018\n",
      "tenure         0.0101      0.002      4.134      0.000       0.005       0.015\n",
      "age            0.0060      0.005      1.194      0.233      -0.004       0.016\n",
      "married        0.1933      0.039      4.999      0.000       0.117       0.269\n",
      "black         -0.1424      0.041     -3.483      0.001      -0.223      -0.062\n",
      "south         -0.0701      0.026     -2.663      0.008      -0.122      -0.018\n",
      "urban          0.1748      0.027      6.515      0.000       0.122       0.227\n",
      "sibs           0.0067      0.007      1.004      0.316      -0.006       0.020\n",
      "brthord       -0.0110      0.009     -1.182      0.238      -0.029       0.007\n",
      "meduc          0.0071      0.005      1.381      0.168      -0.003       0.017\n",
      "feduc          0.0063      0.004      1.407      0.160      -0.002       0.015\n",
      "==============================================================================\n",
      "Omnibus:                       45.087   Durbin-Watson:                   1.802\n",
      "Prob(Omnibus):                  0.000   Jarque-Bera (JB):              113.703\n",
      "Skew:                          -0.222   Prob(JB):                     2.04e-25\n",
      "Kurtosis:                       4.650   Cond. No.                     2.03e+03\n",
      "==============================================================================\n",
      "\n",
      "Notes:\n",
      "[1] Standard Errors assume that the covariance matrix of the errors is correctly specified.\n",
      "[2] The condition number is large, 2.03e+03. This might indicate that there are\n",
      "strong multicollinearity or other numerical problems.\n"
     ]
    }
   ],
   "source": [
    "log_model = smf.ols(formula=\"lwage ~ hours + IQ + KWW + educ + exper + tenure + age + married + black + south + urban + sibs + brthord + meduc + feduc\",\n",
    "    data=dataframe\n",
    ").fit()\n",
    "\n",
    "print(log_model.summary())"
   ]
  },
  {
   "cell_type": "markdown",
   "metadata": {
    "id": "YozLHGKV-cia"
   },
   "source": [
    "## Task 3.b\n",
    "### Problem Setting\n",
    "Explain how to select variables for the model. Interpret the results (explaining all obtained values)\n",
    "\n",
    "### Solution\n",
    "Before we start selecting variables for the model, let's one more time run the f-test for the joint significance of variables sibs, brthord, meduc, feduc, because this time we kept outliers, therefore the result of the test might differ from the previous one."
   ]
  },
  {
   "cell_type": "code",
   "execution_count": 87,
   "metadata": {
    "colab": {
     "base_uri": "https://localhost:8080/"
    },
    "id": "jTcZRRPkQPg2",
    "outputId": "e3da4996-2e13-4d6f-80a1-a7caab321457"
   },
   "outputs": [
    {
     "data": {
      "text/plain": [
       "<class 'statsmodels.stats.contrast.ContrastResults'>\n",
       "<F test: F=2.1289571588396456, p=0.07531800611717122, df_denom=919, df_num=4>"
      ]
     },
     "execution_count": 87,
     "metadata": {},
     "output_type": "execute_result"
    }
   ],
   "source": [
    "hypotheses = \"(sibs = 0), (brthord = 0), (meduc = 0), (feduc = 0)\"\n",
    "f_test = log_model.f_test(hypotheses)\n",
    "f_test"
   ]
  },
  {
   "cell_type": "markdown",
   "metadata": {
    "id": "a84qo-MLTUDq"
   },
   "source": [
    "Since now our variables are jointly significant, we cannot exclude them from the model, because, despite the great p-value, all together they are statistically significant for the model.\n",
    "\n",
    "Now, having checked that, let's apply the same principle of dropping the variables, which p-values are bigger than 0.05"
   ]
  },
  {
   "cell_type": "code",
   "execution_count": 88,
   "metadata": {
    "colab": {
     "base_uri": "https://localhost:8080/"
    },
    "id": "42OQhI3mTcr8",
    "outputId": "66e8f804-6ee0-4be9-f80f-1e4eb5877359"
   },
   "outputs": [
    {
     "name": "stdout",
     "output_type": "stream",
     "text": [
      "                            OLS Regression Results                            \n",
      "==============================================================================\n",
      "Dep. Variable:                  lwage   R-squared:                       0.282\n",
      "Model:                            OLS   Adj. R-squared:                  0.271\n",
      "Method:                 Least Squares   F-statistic:                     25.75\n",
      "Date:                Mon, 27 Mar 2023   Prob (F-statistic):           6.18e-57\n",
      "Time:                        19:58:39   Log-Likelihood:                -363.05\n",
      "No. Observations:                 935   AIC:                             756.1\n",
      "Df Residuals:                     920   BIC:                             828.7\n",
      "Df Model:                          14                                         \n",
      "Covariance Type:            nonrobust                                         \n",
      "==============================================================================\n",
      "                 coef    std err          t      P>|t|      [0.025      0.975]\n",
      "------------------------------------------------------------------------------\n",
      "Intercept      5.3622      0.153     35.033      0.000       5.062       5.663\n",
      "hours         -0.0058      0.002     -3.484      0.001      -0.009      -0.003\n",
      "IQ             0.0029      0.001      2.833      0.005       0.001       0.005\n",
      "KWW            0.0042      0.002      2.243      0.025       0.001       0.008\n",
      "educ           0.0458      0.007      6.162      0.000       0.031       0.060\n",
      "exper          0.0129      0.003      4.016      0.000       0.007       0.019\n",
      "tenure         0.0105      0.002      4.334      0.000       0.006       0.015\n",
      "married        0.1945      0.039      5.029      0.000       0.119       0.270\n",
      "black         -0.1414      0.041     -3.459      0.001      -0.222      -0.061\n",
      "south         -0.0713      0.026     -2.710      0.007      -0.123      -0.020\n",
      "urban          0.1738      0.027      6.479      0.000       0.121       0.226\n",
      "sibs           0.0068      0.007      1.027      0.305      -0.006       0.020\n",
      "brthord       -0.0110      0.009     -1.173      0.241      -0.029       0.007\n",
      "meduc          0.0069      0.005      1.341      0.180      -0.003       0.017\n",
      "feduc          0.0062      0.004      1.395      0.163      -0.003       0.015\n",
      "==============================================================================\n",
      "Omnibus:                       46.656   Durbin-Watson:                   1.794\n",
      "Prob(Omnibus):                  0.000   Jarque-Bera (JB):              119.946\n",
      "Skew:                          -0.227   Prob(JB):                     9.00e-27\n",
      "Kurtosis:                       4.695   Cond. No.                     1.56e+03\n",
      "==============================================================================\n",
      "\n",
      "Notes:\n",
      "[1] Standard Errors assume that the covariance matrix of the errors is correctly specified.\n",
      "[2] The condition number is large, 1.56e+03. This might indicate that there are\n",
      "strong multicollinearity or other numerical problems.\n"
     ]
    }
   ],
   "source": [
    "log_model = smf.ols(formula=\"lwage ~ hours + IQ + KWW + educ + exper + tenure + married + black + south + urban + sibs + brthord + meduc + feduc\",\n",
    "    data=dataframe\n",
    ").fit()\n",
    "\n",
    "print(log_model.summary())"
   ]
  },
  {
   "cell_type": "markdown",
   "metadata": {
    "id": "u7SVYWKcXFb1"
   },
   "source": [
    "It turns out that we only can exclude the variable age from our model, because other variables are either jointly significant or have $\\text{p-value} < 0.05$\n",
    "\n",
    "Our resulting model is:\n",
    "\n",
    "$$\n",
    "\\text{log(wage)} = β_0 + β_1\\text{hours + } β_2\\text{IQ + }β_3\\text{KWW + }β_4\\text{educ + }β_5\\text{exper + }β_6\\text{tenure + }\n",
    "β_7\\text{married + }\\\\\n",
    "β_8\\text{black + }β_{9}\\text{south + }β_{10}\\text{urban + }β_{11}\\text{sibs + }β_{12}\\text{brthord + }β_{13}\\text{meduc + }β_{14}\\text{feduc} \\\\\n",
    "$$\n",
    "\n",
    "Let's interpret the log-linear model that we got:\n",
    "\n",
    "1. $β_0$ is the intercept of our linear regression model\n",
    "2. Since our model is log-level, each coefficient $β_i : i \\in \\{1, ..., 14\\}$ singnifies the increase in the average wage by $100β_i\\%$ with the increase of the correspondent variable by one unit, holding others factors fixed (ceteris paribus)\n",
    "\n",
    "$$\n",
    "\\%Δy=(100β_i)Δx\n",
    "$$\n",
    "\n",
    "3. Our model is built in the way that the p-value for each $\\beta_i$ slope coefficient is less than 0.05, which assumes that there is a strong relation between the independent variables $x_i$ and the dependent variable $y\\text{ (%)}$\n",
    "4. Our adjusted $R^2$ is equal to $0.271$. Therefore it means that our model covers $~27.1\\%$ of the variance in the dependent variable.\n",
    "\n",
    "Now, let's run some tests for this model"
   ]
  },
  {
   "cell_type": "code",
   "execution_count": 89,
   "metadata": {
    "colab": {
     "base_uri": "https://localhost:8080/"
    },
    "id": "GL5eFpbyYfDl",
    "outputId": "2f03b300-b470-4b28-9184-be293193bf28"
   },
   "outputs": [
    {
     "name": "stdout",
     "output_type": "stream",
     "text": [
      "Actual logarithmed wage: 7.1693501472473145\n",
      "Predicted logarithmed wage: 6.9\n",
      "Difference: 0.3\n"
     ]
    }
   ],
   "source": [
    "row_num = 100\n",
    "row = cleaned.loc[row_num]\n",
    "input = row[['hours', 'IQ', 'KWW', 'educ', 'exper', 'tenure', 'married', 'black', 'south', 'urban', 'sibs', 'brthord', 'meduc', 'feduc']]\n",
    "actual_lwage = row['lwage']\n",
    "predicted_lwage = log_model.predict(input)\n",
    "\n",
    "print(\"Actual logarithmed wage:\", actual_lwage)\n",
    "print(\"Predicted logarithmed wage:\", round(predicted_lwage[row_num], 1))\n",
    "print(\"Difference:\", round((actual_lwage - predicted_lwage)[row_num], 1))"
   ]
  },
  {
   "cell_type": "markdown",
   "metadata": {
    "id": "FtdSeWJDfQ2B"
   },
   "source": [
    "As we might see, the difference between the predicted and actual values isn't so big, so the model fits the values quite well"
   ]
  },
  {
   "cell_type": "markdown",
   "metadata": {
    "id": "kcMoKok0-mHh"
   },
   "source": [
    "## Task 3.c\n",
    "### Problem Setting\n",
    "Can we compare linear and log-linear model using adjusted $R^2$ coefficients? Why?\n",
    "\n",
    "### Solution\n",
    "It is not correct to compare the linear and log-linear model using adjusted $R^2$ coefficients, because those coefficients are built for different response variables. Note, that in linear model adjusted $R^2$ explains the part of variance of response variable, while for log-linear model it explains the part of variance of ***logarithm*** of response variable.\n",
    "\n",
    "Furthermore, our models are interpreted in different ways, because in the log-level model coefficient of the independent variable represents the ***percentage change*** in the dependent variable associated with a one-unit increase in the independent variable. While in the level-level model coefficient of the independent variable represents the ***change*** in the dependent variable associated with a one-unit increase in the independent variable.\n",
    "\n",
    "Therefore, we cannot compare models that are totally different"
   ]
  },
  {
   "cell_type": "markdown",
   "metadata": {
    "id": "Kl5C9x3r7eC6"
   },
   "source": [
    "# Task 4"
   ]
  },
  {
   "cell_type": "markdown",
   "metadata": {
    "id": "6pfVuLEc7gcD"
   },
   "source": [
    "## Task 4.a\n",
    "\n",
    "## Problem Setting\n",
    "Run logistic regression for variable married. Choose independent variables. Interpret the results.\n",
    "How can we interpret the obtained estimates of coefficients. Discuss goodness of fit of the model.\n",
    "\n",
    "## Solution\n",
    "First of all let's compose the model out of variables that we have and calculate Akaike Informational Coefficient (AIC) and Bayes Informational Coefficient (BIC):\n",
    "\n",
    "$$\n",
    "\\text{married} = β_0 + β_1\\text{wage + }β_2\\text{hours + }β_3\\text{IQ + }β_4\\text{KWW + }β_5\\text{educ + }β_6\\text{exper + }β_7\\text{tenure + }\n",
    "β_8\\text{age + }\\\\\n",
    "β_9\\text{black + }β_{10}\\text{south + }β_{11}\\text{urban + }β_{12}\\text{sibs + }β_{13}\\text{brthord + }β_{14}\\text{meduc + }β_{15}\\text{feduc} \\\\\n",
    "$$"
   ]
  },
  {
   "cell_type": "code",
   "execution_count": 90,
   "metadata": {
    "colab": {
     "base_uri": "https://localhost:8080/"
    },
    "id": "wAfxI_m29uty",
    "outputId": "b0605092-b487-402c-c366-e92ae7afeb29"
   },
   "outputs": [
    {
     "name": "stdout",
     "output_type": "stream",
     "text": [
      "Optimization terminated successfully.\n",
      "         Current function value: 0.311050\n",
      "         Iterations 7\n",
      "                           Logit Regression Results                           \n",
      "==============================================================================\n",
      "Dep. Variable:                married   No. Observations:                  935\n",
      "Model:                          Logit   Df Residuals:                      920\n",
      "Method:                           MLE   Df Model:                           14\n",
      "Date:                Mon, 27 Mar 2023   Pseudo R-squ.:                 0.08540\n",
      "Time:                        19:58:40   Log-Likelihood:                -290.83\n",
      "converged:                       True   LL-Null:                       -317.99\n",
      "Covariance Type:            nonrobust   LLR p-value:                 1.135e-06\n",
      "==============================================================================\n",
      "                 coef    std err          z      P>|z|      [0.025      0.975]\n",
      "------------------------------------------------------------------------------\n",
      "wage           0.0018      0.000      4.423      0.000       0.001       0.003\n",
      "hours          0.0265      0.015      1.710      0.087      -0.004       0.057\n",
      "IQ            -0.0079      0.009     -0.922      0.357      -0.025       0.009\n",
      "KWW            0.0377      0.018      2.073      0.038       0.002       0.073\n",
      "educ          -0.1577      0.067     -2.344      0.019      -0.290      -0.026\n",
      "exper          0.0270      0.035      0.773      0.439      -0.041       0.095\n",
      "tenure         0.0098      0.025      0.392      0.695      -0.039       0.059\n",
      "age            0.0384      0.037      1.047      0.295      -0.033       0.110\n",
      "black         -0.3277      0.344     -0.954      0.340      -1.001       0.346\n",
      "south          0.3662      0.251      1.457      0.145      -0.126       0.859\n",
      "urban         -0.5225      0.266     -1.964      0.050      -1.044      -0.001\n",
      "sibs           0.0548      0.064      0.863      0.388      -0.070       0.179\n",
      "brthord       -0.0792      0.086     -0.919      0.358      -0.248       0.090\n",
      "meduc         -0.0388      0.048     -0.812      0.417      -0.132       0.055\n",
      "feduc          0.0184      0.042      0.441      0.660      -0.063       0.100\n",
      "==============================================================================\n",
      "AIC: 611.6630636696651\n",
      "BIC: 684.2712616089955\n"
     ]
    }
   ],
   "source": [
    "X = dataframe[['wage', 'hours', 'IQ', 'KWW', 'educ', 'exper', 'tenure', 'age', 'black', 'south', 'urban', 'sibs', 'brthord', 'meduc', 'feduc']]\n",
    "Y = dataframe['married']\n",
    "\n",
    "logit_model = sm.Logit(Y, X).fit()\n",
    "AIC = logit_model.aic\n",
    "BIC = logit_model.bic\n",
    "\n",
    "print(logit_model.summary())\n",
    "print(f\"AIC: {AIC}\")\n",
    "print(f\"BIC: {BIC}\")\n",
    "\n"
   ]
  },
  {
   "cell_type": "markdown",
   "metadata": {
    "id": "nCjvJ-qcfUkL"
   },
   "source": [
    "Let's now drop the coefficients which p-value are below the 0.05. We will use the same technique as we used in the level-level and log-level model: first we select the variables with the biggest p-value and repeat the process until our AIC and BIC statistics stop decreasing and while we have p-values that are less 0.05.\n",
    "\n",
    "The order in which we removed the variables is the following:\n",
    "\n",
    "$$\n",
    "\\text{tenure} \\rightarrow \\text{feduc} \\rightarrow \\text{meduc} \\rightarrow \\text{exper} \\rightarrow \\text{brthord} \\rightarrow \\text{sibs} \\rightarrow \\text{black} \\rightarrow \\text{IQ} \\rightarrow \\text{south} \\rightarrow \\text{hours} \\rightarrow \\text{KWW}\n",
    "$$\n",
    "\n",
    "After performing this actions, we get the following model:\n",
    "\n",
    "$$\n",
    "\\text{married} = β_0 + β_1\\text{wage + }β_2\\text{educ + }β_3\\text{age + }β_{4}\\text{urban}\\\\\n",
    "$$\n",
    "\n",
    "Let's now interpret it:\n",
    "1. $β_0$ is the intercept of our logit model\n",
    "2. Since our model is logit, each coefficient $β_i : i \\in \\{1, ..., 4\\}$ positively or negatively influences the probability of the person to be married, holding others factors fixed (ceteris paribus)\n",
    "3. Our model is built in the way that the p-value for each $\\beta_i$ slope coefficient is less than 0.05, which assumes that there is a strong relation between the independent variables $x_i$ and the dependent variable $y\\text{ (probability being married)}$\n",
    "4. When we try to estimate the goodness of fit of model we mainly take into the account infomational coefficients AIC and BIC. The less are those coefficients, the more accurate the model is. We can also take into account the pseudo $R^2$, the bigger is its value, the more variation in probability is explained."
   ]
  },
  {
   "cell_type": "code",
   "execution_count": 107,
   "metadata": {
    "colab": {
     "base_uri": "https://localhost:8080/"
    },
    "id": "y6UDATmdCxqf",
    "outputId": "a13ecf95-44a9-460a-e25f-dc0eae8a898e"
   },
   "outputs": [
    {
     "name": "stdout",
     "output_type": "stream",
     "text": [
      "Optimization terminated successfully.\n",
      "         Current function value: 0.317514\n",
      "         Iterations 7\n",
      "                           Logit Regression Results                           \n",
      "==============================================================================\n",
      "Dep. Variable:                married   No. Observations:                  935\n",
      "Model:                          Logit   Df Residuals:                      931\n",
      "Method:                           MLE   Df Model:                            3\n",
      "Date:                Mon, 27 Mar 2023   Pseudo R-squ.:                 0.06640\n",
      "Time:                        20:17:57   Log-Likelihood:                -296.88\n",
      "converged:                       True   LL-Null:                       -317.99\n",
      "Covariance Type:            nonrobust   LLR p-value:                 3.593e-09\n",
      "==============================================================================\n",
      "                 coef    std err          z      P>|z|      [0.025      0.975]\n",
      "------------------------------------------------------------------------------\n",
      "wage           0.0017      0.000      4.771      0.000       0.001       0.002\n",
      "educ          -0.1575      0.045     -3.503      0.000      -0.246      -0.069\n",
      "age            0.0961      0.019      5.034      0.000       0.059       0.133\n",
      "urban         -0.5287      0.257     -2.060      0.039      -1.032      -0.026\n",
      "==============================================================================\n",
      "AIC: 601.7510677060883\n",
      "BIC: 621.113253823243\n"
     ]
    }
   ],
   "source": [
    "X = dataframe[['wage', 'educ', 'age', 'urban']]\n",
    "Y = dataframe['married']\n",
    "\n",
    "logit_model = sm.Logit(Y, X).fit()\n",
    "AIC = logit_model.aic\n",
    "BIC = logit_model.bic\n",
    "\n",
    "print(logit_model.summary())\n",
    "print(f\"AIC: {AIC}\")\n",
    "print(f\"BIC: {BIC}\")\n",
    "\n"
   ]
  },
  {
   "cell_type": "markdown",
   "metadata": {
    "id": "U_AhlHaKqn5W"
   },
   "source": [
    "Now let's run the accuracy test for the model. We will use the following rule for estimating whether the person is married. If the probability of person being married is higher or equal to the 50% we will consider the person to be married. Otherwise we will consider person as not married. Applying this rule, we will get that the accuracy of our model is approximately 89.3%"
   ]
  },
  {
   "cell_type": "code",
   "execution_count": 106,
   "metadata": {
    "colab": {
     "base_uri": "https://localhost:8080/"
    },
    "id": "wLwstfdxk7jJ",
    "outputId": "2dbf8511-fabb-4202-b6d6-0d734e5dcb8c"
   },
   "outputs": [
    {
     "name": "stdout",
     "output_type": "stream",
     "text": [
      "Accuracy: 89.3%\n"
     ]
    }
   ],
   "source": [
    "X = dataframe[['wage', 'educ', 'age', 'urban']]\n",
    "Y = dataframe['married']\n",
    "\n",
    "predicted = logit_model.predict(X)\n",
    "predicted = predicted.apply(np.round)\n",
    "\n",
    "accuracy = round(np.mean(predicted == Y)*100, 2)\n",
    "\n",
    "print(f\"Accuracy: {accuracy}%\")\n"
   ]
  }
 ],
 "metadata": {
  "colab": {
   "provenance": [],
   "toc_visible": true
  },
  "kernelspec": {
   "display_name": "Python 3 (ipykernel)",
   "language": "python",
   "name": "python3"
  },
  "language_info": {
   "codemirror_mode": {
    "name": "ipython",
    "version": 3
   },
   "file_extension": ".py",
   "mimetype": "text/x-python",
   "name": "python",
   "nbconvert_exporter": "python",
   "pygments_lexer": "ipython3",
   "version": "3.8.10"
  }
 },
 "nbformat": 4,
 "nbformat_minor": 1
}
